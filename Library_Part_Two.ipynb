{
 "cells": [
  {
   "cell_type": "markdown",
   "metadata": {},
   "source": [
    "### Borena Kunze "
   ]
  },
  {
   "cell_type": "markdown",
   "metadata": {},
   "source": [
    "## "
   ]
  },
  {
   "cell_type": "markdown",
   "metadata": {},
   "source": [
    "# Assignment Two"
   ]
  },
  {
   "cell_type": "markdown",
   "metadata": {},
   "source": [
    "### Library - part two\n"
   ]
  },
  {
   "cell_type": "markdown",
   "metadata": {},
   "source": [
    "### Task 1 and Introduction"
   ]
  },
  {
   "cell_type": "markdown",
   "metadata": {},
   "source": [
    "The first task was to write code which would allow library members to borrow books. For this task it was required to create two classes \"Book\" and \"Member\", in which the method scan() would return the id of each respectively. \n",
    "\n",
    "\n"
   ]
  },
  {
   "cell_type": "markdown",
   "metadata": {},
   "source": [
    "In order to create a structure that would be as clear as possible I decided at first to create three classes \"Book\", \"Member\" and \"Lending\" each containing the specific attributes as well as the class \"Library\", which would provide the functionalities needed for each task.   \n",
    "Alongside with the classes I have also read in the three csv files, the book.csv, the members.csv and the bookloans.csv which would correspond to the classes.  \n",
    "(As the main work with the csv files was part of assignment one, I have kept the reading of the files simple to provide better readability for the code, which is more complex and intertwined in this assignment.)  \n"
   ]
  },
  {
   "cell_type": "markdown",
   "metadata": {},
   "source": [
    "\n",
    "Later for for the task 5.2 I have also added the class \"OrderedBook\" which inherits from the class Book and would make it possible to notify a member that an ordered book has become available.  \n",
    "Wherever possible I have tried to add testing of the code to demonstrate that all parts of the code are working.\n"
   ]
  },
  {
   "cell_type": "markdown",
   "metadata": {},
   "source": [
    "The main challenge for this assignment is surely to provide an understandable and clear structure alongside functionality. As the main code is included in the Library class, I have kept the testing wherever possible at the individual section of each of the taks."
   ]
  },
  {
   "cell_type": "code",
   "execution_count": 1,
   "metadata": {},
   "outputs": [],
   "source": [
    "#importing libraries\n",
    "\n",
    "import csv\n",
    "import datetime\n",
    "import json"
   ]
  },
  {
   "cell_type": "markdown",
   "metadata": {},
   "source": [
    "--- \n",
    "## Book List"
   ]
  },
  {
   "cell_type": "code",
   "execution_count": 2,
   "metadata": {},
   "outputs": [
    {
     "name": "stdout",
     "output_type": "stream",
     "text": [
      "The title of the book is : Fundamentals of Wavelets\n",
      "The genre of the book is : tech\n",
      "The id of the book is : 1\n"
     ]
    }
   ],
   "source": [
    "#creates the class book\n",
    "\n",
    "class Book:\n",
    "    '''\n",
    "    The class Book stores the attributes number, title, author, genre, subgenre, publisher corresponding to those given in the \n",
    "    file books.csv. \n",
    "    The method scan() returns the id \"number\" of a specific book\n",
    "    '''\n",
    "    def __init__(self, number, title, author, genre, subgenre, publisher):\n",
    "        self.number = number\n",
    "        self.title = title\n",
    "        self.author = author\n",
    "        self.genre = genre\n",
    "        self.subgenre = subgenre\n",
    "        self.publisher = publisher\n",
    "    \n",
    "    def scan(self):\n",
    "        '''\n",
    "        scan method returns the number id of the book\n",
    "        '''\n",
    "        return self.number\n",
    "        \n",
    "\n",
    "class OrderedBook(Book):      #task 5 subtask 2\n",
    "    '''\n",
    "    The class OrderedBook, created for Task 5.2 to make it possible to notify a member that an ordered book has become available, \n",
    "    inherits from the Book class and adds the attribute memberId in order to connect the ordered book to the member who has ordered it.\n",
    "    '''\n",
    "    def __init__(self,number,title,author,genre,subgenre,publisher, memberId):\n",
    "        super().__init__(number,title,author,genre,subgenre,publisher)\n",
    "        self.memberId = memberId        #adds attribute\n",
    "        \n",
    "        \n",
    "        \n",
    "'''\n",
    "Testing Book class and scan() method\n",
    "'''\n",
    "\n",
    "newbook = Book('1','Fundamentals of Wavelets',\"Goswami, Jaideva\",'tech','signal_processing','Wiley')   #creating the object\n",
    "print(\"The title of the book is : {}\".format(newbook.title))\n",
    "print(\"The genre of the book is : {}\".format(newbook.genre))     #object.attribute\n",
    "print(\"The id of the book is : {}\".format(newbook.scan()))       #object.method \n"
   ]
  },
  {
   "cell_type": "markdown",
   "metadata": {},
   "source": [
    "The book class containing the book attributes is the first class which I created. It also contains the suggested scan function which returns the number id of each book. The functionality is tested at the bottom of the cell with data from the csv file, showing attributes of the book and the method scan.   \n"
   ]
  },
  {
   "cell_type": "markdown",
   "metadata": {},
   "source": [
    "The class OrderedBook which serves task 5.2 makes it possible to notify a member when the book that he/she has ordered is available for loaning. OrderedBook inherits from the class Book adding the attribute memberId. "
   ]
  },
  {
   "cell_type": "markdown",
   "metadata": {},
   "source": [
    "The next step would be to read in the book.csv file. To keep the code as clear as possible I have decided to create lists which will also allow me to iterate and work accross them more easily in the later tasks. The book csv file contains information on 120 books, encoded as UTF-8, each with a given unique number and attributes such as book title, author, genre etc. \n",
    "To avoid it taking too much space, I decided to not print it out, as it is not necessary at this point. Try, except, finally are used for error handling."
   ]
  },
  {
   "cell_type": "code",
   "execution_count": 3,
   "metadata": {},
   "outputs": [],
   "source": [
    "\n",
    "'''\n",
    "Reading in the books.csv file and creating a list of books storing the information of the csv file\n",
    "Using try, except, finally for error handling\n",
    "'''\n",
    "\n",
    "try:                                                                     #reading the file and\n",
    "    with open('books.csv', mode = 'r', encoding = 'utf-8') as file:      #using 'utf-8' to encode the file\n",
    "        csvFile = csv.reader(file)                                       \n",
    "        #print(csvFile)\n",
    "        \n",
    "        rowCount = 0\n",
    "        bookList = []            #creating the list of books\n",
    "        \n",
    "        for row in csvFile:\n",
    "            #print(row)\n",
    "            if rowCount == 0:\n",
    "                #reads the heading\n",
    "                heading = row        \n",
    "                #print(heading)\n",
    "                \n",
    "                rowCount += 1\n",
    "            else:\n",
    "                #read and store the content \n",
    "                bookId = row[0]\n",
    "                title = row[1]\n",
    "                author = row[2]\n",
    "                genre = row[3]\n",
    "                subgenre = row[4]\n",
    "                publisher = row[5]\n",
    "                \n",
    "                newbook = Book(bookId, title, author, genre, subgenre, publisher)\n",
    "                bookList.append(newbook)\n",
    "                \n",
    "            \n",
    "except:\n",
    "    print('File could not be opened.')\n",
    "    \n",
    "finally:\n",
    "    file.close()"
   ]
  },
  {
   "cell_type": "markdown",
   "metadata": {},
   "source": [
    "--- \n",
    "## Members"
   ]
  },
  {
   "cell_type": "markdown",
   "metadata": {},
   "source": [
    "To create the class Member I followed the same procedure as for the Book class, creating a Member class which contains all the member's attributes, such as id, first and last name, gender, email and card number as well as the scan method which returns here the member id \"ID\".  \n",
    "To test the functionality print examples of attributes as well as the scan method are provided at the end of the cell. "
   ]
  },
  {
   "cell_type": "code",
   "execution_count": 4,
   "metadata": {},
   "outputs": [
    {
     "name": "stdout",
     "output_type": "stream",
     "text": [
      "The email address of the member is: a.cunningham@randatmail.com\n",
      "The id number of the member is: 1\n",
      "The new member is: Adelaide Cunningham\n"
     ]
    }
   ],
   "source": [
    "#creating class member\n",
    "\n",
    "class Member:\n",
    "    '''\n",
    "    Member class contains the attributes such as ID, first_name, last_name, gender, email and cardnumber\n",
    "    The method scan() returns the member ID\n",
    "    \n",
    "    '''\n",
    "    def __init__(self, ID, first_name, last_name, gender, email, cardnumber):\n",
    "        self.ID = ID\n",
    "        self.first_name = first_name\n",
    "        self.last_name = last_name\n",
    "        self.gender = gender\n",
    "        self.email = email\n",
    "        self.cardnumber = cardnumber\n",
    "    \n",
    "    def __str__(self):                       #avoids printing the object position in memory and prints the actual information\n",
    "        return self.first_name + \" \" + self.last_name                        #returns name and surname of the member\n",
    "        \n",
    "    def scan(self):\n",
    "        '''\n",
    "        scan method returns member ID\n",
    "        '''\n",
    "        return self.ID           \n",
    "\n",
    "    \n",
    "'''\n",
    "Printing examples to ensure that the code is working\n",
    "'''\n",
    "member = Member('1','Adelaide','Cunningham','Female','a.cunningham@randatmail.com','13')     #creating object\n",
    "print(\"The email address of the member is: {}\".format(member.email))\n",
    "print(\"The id number of the member is: {}\".format(member.scan()))      #testing scan() method\n",
    "print(\"The new member is: {}\".format(member))\n"
   ]
  },
  {
   "cell_type": "code",
   "execution_count": 5,
   "metadata": {},
   "outputs": [
    {
     "name": "stdout",
     "output_type": "stream",
     "text": [
      "['\\ufeffID', 'First Name', 'Last Name', 'Gender', 'Email', 'CardNumber']\n",
      "['1', 'Adelaide', 'Cunningham', 'Female', 'a.cunningham@randatmail.com', '13']\n",
      "['2', 'Charlie', 'Roberts', 'Male', 'c.roberts@randatmail.com', '22']\n",
      "['3', 'Eric', 'Cooper', 'Male', 'e.cooper@randatmail.com', '33']\n",
      "['4', 'Cadie', 'Hall', 'Female', 'c.hall@randatmail.com', '43']\n",
      "['5', 'Darcy', 'Howard', 'Female', 'd.howard@randatmail.com', '52']\n",
      "['6', 'Connie', 'West', 'Female', 'c.west@randatmail.com', '61']\n",
      "['7', 'Lyndon', 'Ellis', 'Male', 'l.ellis@randatmail.com', '72']\n",
      "['8', 'Amy', 'Hamilton', 'Female', 'a.hamilton@randatmail.com', '82']\n",
      "['9', 'Kelvin', 'Wilson', 'Male', 'k.wilson@randatmail.com', '93']\n",
      "['10', 'Arianna', 'Watson', 'Female', 'a.watson@randatmail.com', '0']\n",
      "['11', 'Lydia', 'Farrell', 'Female', 'l.farrell@randatmail.com', '113']\n",
      "['12', 'Ada', 'Harris', 'Female', 'a.harris@randatmail.com', '122']\n",
      "['13', 'Sarah', 'Wilson', 'Female', 's.wilson@randatmail.com', '131']\n",
      "['14', 'Nicole', 'Phillips', 'Female', 'n.phillips@randatmail.com', '143']\n",
      "['15', 'Maddie', 'Anderson', 'Female', 'm.anderson@randatmail.com', '153']\n",
      "['16', 'Brad', 'Alexander', 'Male', 'b.alexander@randatmail.com', '161']\n",
      "['17', 'Lucia', 'Spencer', 'Female', 'l.spencer@randatmail.com', '172']\n",
      "['18', 'Freddie', 'Ellis', 'Male', 'f.ellis@randatmail.com', '183']\n",
      "['19', 'Hailey', 'Moore', 'Female', 'h.moore@randatmail.com', '192']\n",
      "['20', 'Kelsey', 'Morrison', 'Female', 'k.morrison@randatmail.com', '202']\n",
      "['21', 'Elise', 'Russell', 'Female', 'e.russell@randatmail.com', '213']\n",
      "['22', 'Mike', 'Crawford', 'Male', 'm.crawford@randatmail.com', '223']\n",
      "['23', 'Amy', 'Murray', 'Female', 'a.murray@randatmail.com', '232']\n",
      "['24', 'Amanda', 'Gray', 'Female', 'a.gray@randatmail.com', '242']\n",
      "['25', 'Myra', 'Morgan', 'Female', 'm.morgan@randatmail.com', '251']\n",
      "['26', 'Miley', 'Rogers', 'Female', 'm.rogers@randatmail.com', '263']\n",
      "['27', 'Kate', 'Morrison', 'Female', 'k.morrison@randatmail.com', '272']\n",
      "['28', 'Luke', 'Craig', 'Male', 'l.craig@randatmail.com', '281']\n",
      "['29', 'Michael', 'Miller', 'Male', 'm.miller@randatmail.com', '292']\n",
      "['30', 'Paige', 'Elliott', 'Female', 'p.elliott@randatmail.com', '301']\n",
      "['31', 'Gianna', 'Warren', 'Female', 'g.warren@randatmail.com', '313']\n",
      "['32', 'Lydia', 'Campbell', 'Female', 'l.campbell@randatmail.com', '322']\n",
      "['33', 'Anna', 'Barrett', 'Female', 'a.barrett@randatmail.com', '332']\n",
      "['34', 'Connie', 'Phillips', 'Female', 'c.phillips@randatmail.com', '343']\n",
      "['35', 'Briony', 'Mason', 'Female', 'b.mason@randatmail.com', '351']\n",
      "['36', 'Lucy', 'Morrison', 'Female', 'l.morrison@randatmail.com', '363']\n",
      "['37', 'Deanna', 'Higgins', 'Female', 'd.higgins@randatmail.com', '371']\n",
      "['38', 'David', 'Richards', 'Male', 'd.richards@randatmail.com', '383']\n",
      "['39', 'Ada', 'Brown', 'Female', 'a.brown@randatmail.com', '392']\n",
      "['40', 'Maria', 'Thomas', 'Female', 'm.thomas@randatmail.com', '402']\n",
      "['41', 'Fiona', 'Walker', 'Female', 'f.walker@randatmail.com', '412']\n",
      "['42', 'Alisa', 'Harris', 'Female', 'a.harris@randatmail.com', '422']\n",
      "['43', 'Kate', 'Harris', 'Female', 'k.harris@randatmail.com', '431']\n",
      "['44', 'Cadie', 'Roberts', 'Female', 'c.roberts@randatmail.com', '442']\n",
      "['45', 'Ryan', 'Montgomery', 'Male', 'r.montgomery@randatmail.com', '451']\n",
      "['46', 'Henry', 'Henderson', 'Male', 'h.henderson@randatmail.com', '462']\n",
      "['47', 'Sabrina', 'West', 'Female', 's.west@randatmail.com', '473']\n",
      "['48', 'Adison', 'Murphy', 'Male', 'a.murphy@randatmail.com', '483']\n",
      "['49', 'Adison', 'Ellis', 'Male', 'a.ellis@randatmail.com', '491']\n",
      "['50', 'Adrianna', 'Walker', 'Female', 'a.walker@randatmail.com', '503']\n",
      "['51', 'Miranda', 'Hill', 'Female', 'm.hill@randatmail.com', '512']\n",
      "['52', 'Jasmine', 'Tucker', 'Female', 'j.tucker@randatmail.com', '521']\n",
      "['53', 'Jack', 'Alexander', 'Male', 'j.alexander@randatmail.com', '533']\n",
      "['54', 'David', 'Lloyd', 'Male', 'd.lloyd@randatmail.com', '542']\n",
      "['55', 'Sofia', 'Montgomery', 'Female', 's.montgomery@randatmail.com', '552']\n",
      "['56', 'Alisa', 'Wilson', 'Female', 'a.wilson@randatmail.com', '562']\n",
      "['57', 'Deanna', 'Richardson', 'Female', 'd.richardson@randatmail.com', '0']\n",
      "['58', 'Sydney', 'Miller', 'Female', 's.miller@randatmail.com', '582']\n",
      "['59', 'Spike', 'Jones', 'Male', 's.jones@randatmail.com', '592']\n",
      "['60', 'Ashton', 'Barrett', 'Male', 'a.barrett@randatmail.com', '603']\n",
      "['61', 'Reid', 'Kelley', 'Male', 'r.kelley@randatmail.com', '612']\n",
      "['62', 'Ellia', 'Smith', 'Female', 'e.smith@randatmail.com', '622']\n",
      "['63', 'Jacob', 'Wright', 'Male', 'j.wright@randatmail.com', '632']\n",
      "['64', 'Darcy', 'Morris', 'Female', 'd.morris@randatmail.com', '641']\n",
      "['65', 'Naomi', 'Johnson', 'Female', 'n.johnson@randatmail.com', '651']\n",
      "['66', 'Reid', 'Richardson', 'Male', 'r.richardson@randatmail.com', '662']\n",
      "['67', 'Daryl', 'Foster', 'Male', 'd.foster@randatmail.com', '672']\n",
      "['68', 'Adam', 'Carter', 'Male', 'a.carter@randatmail.com', '683']\n",
      "['69', 'Abraham', 'Cooper', 'Male', 'a.cooper@randatmail.com', '692']\n",
      "['70', 'Heather', 'Riley', 'Female', 'h.riley@randatmail.com', '701']\n",
      "['71', 'Miller', 'Cameron', 'Male', 'm.cameron@randatmail.com', '713']\n",
      "['72', 'Deanna', 'Myers', 'Female', 'd.myers@randatmail.com', '722']\n",
      "['73', 'Stuart', 'Andrews', 'Male', 's.andrews@randatmail.com', '733']\n",
      "['74', 'Oscar', 'Ferguson', 'Male', 'o.ferguson@randatmail.com', '742']\n",
      "['75', 'Amelia', 'Morgan', 'Female', 'a.morgan@randatmail.com', '753']\n",
      "['76', 'Tiana', 'Russell', 'Female', 't.russell@randatmail.com', '763']\n",
      "['77', 'Myra', 'Martin', 'Female', 'm.martin@randatmail.com', '773']\n",
      "['78', 'Lucy', 'Richards', 'Female', 'l.richards@randatmail.com', '782']\n",
      "['79', 'Jack', 'Evans', 'Male', 'j.evans@randatmail.com', '791']\n",
      "['80', 'Catherine', 'Ferguson', 'Female', 'c.ferguson@randatmail.com', '803']\n",
      "['81', 'Bruce', 'Hunt', 'Male', 'b.hunt@randatmail.com', '812']\n",
      "['82', 'Tony', 'Moore', 'Male', 't.moore@randatmail.com', '822']\n",
      "['83', 'Alissa', 'Payne', 'Female', 'a.payne@randatmail.com', '831']\n",
      "['84', 'Arthur', 'Anderson', 'Male', 'a.anderson@randatmail.com', '0']\n",
      "['85', 'Aldus', 'Carroll', 'Male', 'a.carroll@randatmail.com', '853']\n",
      "['86', 'Paige', 'Andrews', 'Female', 'p.andrews@randatmail.com', '861']\n",
      "['87', 'Melanie', 'Cameron', 'Female', 'm.cameron@randatmail.com', '871']\n",
      "['88', 'Adele', 'Barnes', 'Female', 'a.barnes@randatmail.com', '882']\n",
      "['89', 'Adam', 'Elliott', 'Male', 'a.elliott@randatmail.com', '891']\n",
      "['90', 'Adam', 'Farrell', 'Male', 'a.farrell@randatmail.com', '901']\n",
      "['91', 'William', 'Lloyd', 'Male', 'w.lloyd@randatmail.com', '913']\n",
      "['92', 'Victor', 'Ferguson', 'Male', 'v.ferguson@randatmail.com', '923']\n",
      "['93', 'Alan', 'Phillips', 'Male', 'a.phillips@randatmail.com', '932']\n",
      "['94', 'George', 'Allen', 'Male', 'g.allen@randatmail.com', '943']\n",
      "['95', 'Jared', 'Hill', 'Male', 'j.hill@randatmail.com', '951']\n",
      "['96', 'Catherine', 'Myers', 'Female', 'c.myers@randatmail.com', '961']\n",
      "['97', 'Alexia', 'Robinson', 'Female', 'a.robinson@randatmail.com', '972']\n",
      "['98', 'Lucia', 'Miller', 'Female', 'l.miller@randatmail.com', '981']\n",
      "['99', 'Abraham', 'Mason', 'Male', 'a.mason@randatmail.com', '991']\n",
      "['100', 'Connie', 'Gibson', 'Female', 'c.gibson@randatmail.com', '1003']\n",
      "['101', 'Abigail', 'Lloyd', 'Female', 'a.lloyd@randatmail.com', '1011']\n",
      "['102', 'Miranda', 'Richardson', 'Female', 'm.richardson@randatmail.com', '1021']\n",
      "['103', 'Alen', 'Murphy', 'Male', 'a.murphy@randatmail.com', '1032']\n",
      "['104', 'Arthur', 'Andrews', 'Male', 'a.andrews@randatmail.com', '1043']\n",
      "['105', 'Clark', 'Stewart', 'Male', 'c.stewart@randatmail.com', '1053']\n",
      "['106', 'Abigail', 'Myers', 'Female', 'a.myers@randatmail.com', '1063']\n",
      "['107', 'Briony', 'Edwards', 'Female', 'b.edwards@randatmail.com', '1073']\n",
      "['108', 'Sophia', 'Russell', 'Female', 's.russell@randatmail.com', '1082']\n",
      "['109', 'Jenna', 'Clark', 'Female', 'j.clark@randatmail.com', '0']\n",
      "['110', 'Maria', 'Crawford', 'Female', 'm.crawford@randatmail.com', '1101']\n",
      "['111', 'Arthur', 'Wells', 'Male', 'a.wells@randatmail.com', '1112']\n",
      "['112', 'Abraham', 'Armstrong', 'Male', 'a.armstrong@randatmail.com', '1121']\n",
      "['113', 'Samantha', 'Mason', 'Female', 's.mason@randatmail.com', '1132']\n",
      "['114', 'Rubie', 'Thompson', 'Female', 'r.thompson@randatmail.com', '1143']\n",
      "['115', 'Sabrina', 'Foster', 'Female', 's.foster@randatmail.com', '1152']\n",
      "['116', 'Miranda', 'Howard', 'Female', 'm.howard@randatmail.com', '1161']\n",
      "['117', 'Valeria', 'Montgomery', 'Female', 'v.montgomery@randatmail.com', '1172']\n",
      "['118', 'Aldus', 'Carter', 'Male', 'a.carter@randatmail.com', '1181']\n",
      "['119', 'Frederick', 'Evans', 'Male', 'f.evans@randatmail.com', '1191']\n",
      "['120', 'Eleanor', 'Douglas', 'Female', 'e.douglas@randatmail.com', '1201']\n",
      "['121', 'Wilson', 'Higgins', 'Male', 'w.higgins@randatmail.com', '1211']\n",
      "['122', 'Paige', 'Kelley', 'Female', 'p.kelley@randatmail.com', '1223']\n",
      "['123', 'Amber', 'Brooks', 'Female', 'a.brooks@randatmail.com', '1231']\n",
      "['124', 'Preston', 'Payne', 'Male', 'p.payne@randatmail.com', '1242']\n",
      "['125', 'Ashton', 'Hill', 'Male', 'a.hill@randatmail.com', '1251']\n",
      "['126', 'Madaline', 'Roberts', 'Female', 'm.roberts@randatmail.com', '1262']\n",
      "['127', 'Lucy', 'Richardson', 'Female', 'l.richardson@randatmail.com', '1272']\n",
      "['128', 'Aiden', 'Moore', 'Male', 'a.moore@randatmail.com', '1283']\n",
      "['129', 'Mary', 'Ellis', 'Female', 'm.ellis@randatmail.com', '1292']\n",
      "['130', 'Joyce', 'Baker', 'Female', 'j.baker@randatmail.com', '1303']\n",
      "['131', 'Miller', 'Moore', 'Male', 'm.moore@randatmail.com', '1311']\n",
      "['132', 'Michelle', 'Morrison', 'Female', 'm.morrison@randatmail.com', '1322']\n",
      "['133', 'Sydney', 'Taylor', 'Female', 's.taylor@randatmail.com', '1332']\n",
      "['134', 'Jacob', 'Cooper', 'Male', 'j.cooper@randatmail.com', '1341']\n",
      "['135', 'Harold', 'Myers', 'Male', 'h.myers@randatmail.com', '1352']\n",
      "['136', 'Justin', 'Montgomery', 'Male', 'j.montgomery@randatmail.com', '1362']\n",
      "['137', 'Justin', 'Thompson', 'Male', 'j.thompson@randatmail.com', '1373']\n",
      "['138', 'Daryl', 'Watson', 'Male', 'd.watson@randatmail.com', '1383']\n",
      "['139', 'Tara', 'Barrett', 'Female', 't.barrett@randatmail.com', '0']\n",
      "['140', 'Arianna', 'Barnes', 'Female', 'a.barnes@randatmail.com', '1403']\n",
      "['141', 'Kirsten', 'Harper', 'Female', 'k.harper@randatmail.com', '1413']\n",
      "['142', 'Valeria', 'Barnes', 'Female', 'v.barnes@randatmail.com', '1421']\n",
      "['143', 'Chloe', 'Barnes', 'Female', 'c.barnes@randatmail.com', '1433']\n",
      "['144', 'Alexia', 'Moore', 'Female', 'a.moore@randatmail.com', '1443']\n",
      "['145', 'Roman', 'Hunt', 'Male', 'r.hunt@randatmail.com', '1451']\n",
      "['146', 'Charlie', 'Higgins', 'Male', 'c.higgins@randatmail.com', '1462']\n",
      "['147', 'Vanessa', 'Dixon', 'Female', 'v.dixon@randatmail.com', '1473']\n",
      "['148', 'William', 'Warren', 'Male', 'w.warren@randatmail.com', '1481']\n",
      "['149', 'Olivia', 'Alexander', 'Female', 'o.alexander@randatmail.com', '1493']\n",
      "['150', 'Daniel', 'Foster', 'Male', 'd.foster@randatmail.com', '1502']\n",
      "['151', 'Lydia', 'Robinson', 'Female', 'l.robinson@randatmail.com', '1512']\n",
      "['152', 'Amelia', 'Moore', 'Female', 'a.moore@randatmail.com', '1522']\n",
      "['153', 'Lucia', 'Morgan', 'Female', 'l.morgan@randatmail.com', '1533']\n",
      "['154', 'Darcy', 'Wright', 'Female', 'd.wright@randatmail.com', '1543']\n",
      "['155', 'Dainton', 'Chapman', 'Male', 'd.chapman@randatmail.com', '1552']\n",
      "['156', 'Penelope', 'Roberts', 'Female', 'p.roberts@randatmail.com', '1563']\n",
      "['157', 'Kellan', 'Mason', 'Male', 'k.mason@randatmail.com', '1572']\n",
      "['158', 'Owen', 'Ferguson', 'Male', 'o.ferguson@randatmail.com', '1583']\n",
      "['159', 'Elise', 'Walker', 'Female', 'e.walker@randatmail.com', '1593']\n",
      "['160', 'David', 'Hamilton', 'Male', 'd.hamilton@randatmail.com', '0']\n",
      "['161', 'Dominik', 'Gray', 'Male', 'd.gray@randatmail.com', '1612']\n",
      "['162', 'Violet', 'Thomas', 'Female', 'v.thomas@randatmail.com', '1623']\n",
      "['163', 'Aston', 'Crawford', 'Male', 'a.crawford@randatmail.com', '1631']\n",
      "['164', 'Rebecca', 'Morris', 'Female', 'r.morris@randatmail.com', '1643']\n",
      "['165', 'Connie', 'Campbell', 'Female', 'c.campbell@randatmail.com', '1651']\n",
      "['166', 'Charlie', 'Elliott', 'Male', 'c.elliott@randatmail.com', '1663']\n",
      "['167', 'Alissa', 'Ferguson', 'Female', 'a.ferguson@randatmail.com', '1671']\n",
      "['168', 'Jasmine', 'Davis', 'Female', 'j.davis@randatmail.com', '1683']\n",
      "['169', 'Aida', 'Harrison', 'Female', 'a.harrison@randatmail.com', '1693']\n",
      "['170', 'Marcus', 'Davis', 'Male', 'm.davis@randatmail.com', '1702']\n",
      "['171', 'Walter', 'Craig', 'Male', 'w.craig@randatmail.com', '1713']\n",
      "['172', 'Lucas', 'Howard', 'Male', 'l.howard@randatmail.com', '1722']\n",
      "['173', 'Isabella', 'Miller', 'Female', 'i.miller@randatmail.com', '1731']\n",
      "['174', 'Rubie', 'Allen', 'Female', 'r.allen@randatmail.com', '1741']\n",
      "['175', 'Kelsey', 'Spencer', 'Female', 'k.spencer@randatmail.com', '1752']\n",
      "['176', 'Dainton', 'Parker', 'Male', 'd.parker@randatmail.com', '1763']\n",
      "['177', 'Kevin', 'Adams', 'Male', 'k.adams@randatmail.com', '1773']\n",
      "['178', 'Derek', 'Campbell', 'Male', 'd.campbell@randatmail.com', '1782']\n",
      "['179', 'James', 'Richardson', 'Male', 'j.richardson@randatmail.com', '1792']\n",
      "['180', 'Roland', 'Johnson', 'Male', 'r.johnson@randatmail.com', '1802']\n",
      "['181', 'Melissa', 'Walker', 'Female', 'm.walker@randatmail.com', '1812']\n",
      "['182', 'William', 'Kelly', 'Male', 'w.kelly@randatmail.com', '1822']\n",
      "['183', 'Melanie', 'Williams', 'Female', 'm.williams@randatmail.com', '1832']\n",
      "['184', 'Martin', 'Morris', 'Male', 'm.morris@randatmail.com', '1842']\n",
      "['185', 'Robert', 'Cunningham', 'Male', 'r.cunningham@randatmail.com', '1853']\n",
      "['186', 'Albert', 'Roberts', 'Male', 'a.roberts@randatmail.com', '0']\n",
      "['187', 'Olivia', 'Cameron', 'Female', 'o.cameron@randatmail.com', '1873']\n",
      "['188', 'Sienna', 'Bennett', 'Female', 's.bennett@randatmail.com', '1881']\n",
      "['189', 'Victoria', 'Howard', 'Female', 'v.howard@randatmail.com', '1891']\n",
      "['190', 'William', 'West', 'Male', 'w.west@randatmail.com', '1901']\n",
      "['191', 'Fiona', 'Alexander', 'Female', 'f.alexander@randatmail.com', '1913']\n",
      "['192', 'Kristian', 'Walker', 'Male', 'k.walker@randatmail.com', '1922']\n",
      "['193', 'Naomi', 'Higgins', 'Female', 'n.higgins@randatmail.com', '1931']\n",
      "['194', 'Stuart', 'Mason', 'Male', 's.mason@randatmail.com', '1943']\n",
      "['195', 'Brad', 'Jones', 'Male', 'b.jones@randatmail.com', '1953']\n",
      "['196', 'Alexander', 'Cooper', 'Male', 'a.cooper@randatmail.com', '1963']\n",
      "['197', 'Ned', 'Ryan', 'Male', 'n.ryan@randatmail.com', '1972']\n",
      "['198', 'Audrey', 'Murray', 'Female', 'a.murray@randatmail.com', '0']\n",
      "['199', 'Caroline', 'Anderson', 'Female', 'c.anderson@randatmail.com', '1991']\n",
      "['200', 'Marcus', 'Parker', 'Male', 'm.parker@randatmail.com', '2002']\n"
     ]
    }
   ],
   "source": [
    "#reading the members.csv file\n",
    "#creating the membersList list\n",
    "\n",
    "'''\n",
    "Reading in the members.csv file and creating a list of members storing the information from the csv file\n",
    "Using 'utf-8' for encoding and\n",
    "try, except, finally for error handling\n",
    "'''\n",
    "\n",
    "try:\n",
    "    with open('members.csv', mode = 'r', encoding = 'utf-8') as file:      #using 'utf-8' to encode the file\n",
    "        csvFile = csv.reader(file)\n",
    "        #print(csvFile)\n",
    "        \n",
    "        rowCount = 0\n",
    "        membersList = []\n",
    "        \n",
    "        for row in csvFile:\n",
    "            print(row)\n",
    "            if rowCount == 0:\n",
    "                #reads the heading\n",
    "                heading = row        \n",
    "                #print(heading)\n",
    "                \n",
    "                rowCount += 1\n",
    "            else:\n",
    "                #read and store the content in the dictionary\n",
    "                memberId = row[0]\n",
    "                firstName = row[1]\n",
    "                lastName = row[2]\n",
    "                gender = row[3]\n",
    "                email = row[4]\n",
    "                cardnumber = row[5]\n",
    "                \n",
    "                newMember = Member(memberId, firstName, lastName, gender, email, cardnumber)\n",
    "                membersList.append(newMember)\n",
    "                \n",
    "            \n",
    "except:\n",
    "    print('File could not be opened.')\n",
    "    \n",
    "finally:\n",
    "    file.close()\n",
    "    "
   ]
  },
  {
   "cell_type": "markdown",
   "metadata": {},
   "source": [
    "As this file was not part of the first assignment I have printed the content out, creating the opportunity to become familiar with the information included. There are 200 members listed, meaning that any new member will have an id greater than 200 and their membership cards will be from 2011 onwards. This will be of interest to provide the possibility of adding new members and creating the membership cards for them."
   ]
  },
  {
   "cell_type": "markdown",
   "metadata": {},
   "source": [
    "--- \n",
    "## Lending Books"
   ]
  },
  {
   "cell_type": "markdown",
   "metadata": {},
   "source": [
    "The class Lending will provide functionality for lending a book. Book Id, member Id, the date of loan as well as the date of return are the stored attributes and will be used later to calculate the books which are being returned late and allow to send the notifications.   \n",
    "The printout expresses the status of the loaned book showing that it is on loan and the member who has borrowed it."
   ]
  },
  {
   "cell_type": "code",
   "execution_count": 6,
   "metadata": {},
   "outputs": [
    {
     "name": "stdout",
     "output_type": "stream",
     "text": [
      "The book with the id 1 is currently loaned by member 71.\n"
     ]
    }
   ],
   "source": [
    "#class for lending books\n",
    "\n",
    "class Lending:\n",
    "    '''\n",
    "    Lending contains the attributes of the provided bookloans information, such as book_ID, member_ID, date_of_loan, date_of_return\n",
    "    The converting of the date format will be provided through the function formatDate in the following cell.\n",
    "    '''\n",
    "    def __init__(self, bookID, memberID, date_of_loan, date_of_return):\n",
    "        self.book_ID = bookID\n",
    "        self.member_ID = memberID\n",
    "        self.date_of_loan = date_of_loan\n",
    "        self.date_of_return = date_of_return\n",
    "\n",
    "'''\n",
    "Testing the class Lending with given information\n",
    "'''\n",
    "lend = Lending('1','71','43726','43746')\n",
    "print(\"The book with the id {} is currently loaned by member {}.\".format(lend.book_ID, lend.member_ID))"
   ]
  },
  {
   "cell_type": "markdown",
   "metadata": {},
   "source": [
    "To allow for further calculations, the time format needed to be converted into a human readable format, such as Year-Month-Day. Using datetime I have created a function which returns the given dates from the Microsoft epoch format into a year-month-day format. \n"
   ]
  },
  {
   "cell_type": "code",
   "execution_count": 7,
   "metadata": {},
   "outputs": [],
   "source": [
    "#convert the numerical data to dates\n",
    "\n",
    "\n",
    "def formatDate(refValue, dateValue):\n",
    "    '''\n",
    "    Function converts Microsoft epoch formatted dates \n",
    "    return: readable date as Year-Month-Day \n",
    "    '''\n",
    "    #considering epoch date to be 1900-01-01\n",
    "    formatRef = datetime.datetime.strptime(refValue, \"%Y-%m-%d\")                         #converting the date into readable format\n",
    "    newDate = (formatRef + datetime.timedelta(days=int(dateValue))).strftime(\"%Y-%m-%d\")\n",
    "    return newDate              #returns the date in the new format\n",
    "\n",
    "\n"
   ]
  },
  {
   "cell_type": "markdown",
   "metadata": {},
   "source": [
    "As with the previous files, the following code will read in the bookloans.csv file into the list loanList whilst applying the formatDate function created previously to convert the dates. \n",
    "At the same time the rows with a book id greater than 120 will be excluded as they do not correspond with the list of books containing only 120 book entries. Again try, except, finally is used for error handling and tests are provided at the end showing when the book was loaned and when it is returned.\n"
   ]
  },
  {
   "cell_type": "code",
   "execution_count": 8,
   "metadata": {},
   "outputs": [
    {
     "name": "stdout",
     "output_type": "stream",
     "text": [
      "The book with the id 1 is loaned by member 38 on the 2019-03-21 and has been returned on 2019-03-26.\n",
      "The book with the id 3 is loaned by member 133 on the 2019-01-06 and has been returned on 2019-01-23.\n"
     ]
    }
   ],
   "source": [
    "\n",
    "'''\n",
    "Opening and reading in the bookloans.csv file \n",
    "Excluding all rows where the unique book id is > 120 \n",
    "Excluding the rows where the return date is 0\n",
    "Applying the formatDate function\n",
    "Using try, except, finally for error handling\n",
    "'''\n",
    "# open the file bookloans.csv\n",
    "try:\n",
    "    #opening file\n",
    "    with open('bookloans.csv', mode = 'r', encoding = 'utf-8') as file:       #using 'utf-8' to encode\n",
    "        csvFile = csv.reader(file)\n",
    "        #print(csvFile)\n",
    "\n",
    "        #initialize the list of loans\n",
    "        loanList = []\n",
    "\n",
    "\n",
    "        #read the data\n",
    "        for row in csvFile:\n",
    "            #changing first element into '1'\n",
    "            if row[0].isdigit() == False:           \n",
    "                row[0] = '1'\n",
    "                # excluding elements where return_date is 0\n",
    "                # excluding elements where the bookId > 120\n",
    "            if row[3] != 0 and int(row[0]) < 121:\n",
    "\n",
    "                if row[0] != 0:                           #reading in rows 0 and 1\n",
    "                    bookID = row[0]\n",
    "                if row[1] != 0:\n",
    "                    memberID = row[1]\n",
    "                if row[2] != 0:\n",
    "                #changing epoch into dates\n",
    "                    date_of_loan = formatDate('1900-01-01', row[2])   #append the formatDate function\n",
    "                else:\n",
    "                    date_of_loan = 'Nan'\n",
    "                if row[3] != 0:\n",
    "                    date_of_return = formatDate('1900-01-01', row[3])\n",
    "                else:\n",
    "                    date_of_return = 'Nan'\n",
    "\n",
    "                #create object \n",
    "                lending = Lending(bookID, memberID, date_of_loan, date_of_return)\n",
    "\n",
    "                loanList.append(lending)\n",
    "\n",
    "\n",
    "        \n",
    "except:\n",
    "    print('File could not be opened.')\n",
    "    \n",
    "finally:\n",
    "    file.close()\n",
    "\n",
    "\n",
    "'''\n",
    "Testing loanlist\n",
    "'''\n",
    "print(\"The book with the id {} is loaned by member {} on the {} and has been returned on {}.\".format(loanList[4].book_ID, loanList[4].member_ID, loanList[4].date_of_loan, loanList[4].date_of_return))\n",
    "print(\"The book with the id {} is loaned by member {} on the {} and has been returned on {}.\".format(loanList[43].book_ID, loanList[43].member_ID, loanList[43].date_of_loan, loanList[43].date_of_return))\n"
   ]
  },
  {
   "cell_type": "markdown",
   "metadata": {},
   "source": [
    "--- \n",
    "## Library"
   ]
  },
  {
   "cell_type": "markdown",
   "metadata": {},
   "source": [
    "After reading in all three csv files and creating the three classes, the class Library will provide functionality needed to solve the different tasks.   \n",
    "The Library class includes therefore various methods belonging to different tasks, providing a simple and unified structure for the library management whilst making it possible to add further functionalities when needed.   \n",
    "I have added explanations and comments wherever possible for better understanding.  \n",
    "\n",
    "The following explanations should provide further clarifications on the different functionalities within the Library class:\n",
    "\n",
    "The methods hasMember and hasBook use the method scan to check if a book or a member are registered in the library, returning True if they are and False otherwise.  \n",
    "\n",
    "\n"
   ]
  },
  {
   "cell_type": "markdown",
   "metadata": {},
   "source": [
    "The method loan is concerned with the different aspects of loaning a book. After checking that the provided member id is registered and the book code is available, it will allow for the book to be loaned and registered as unavailable for loaning.  \n",
    "If a book appears as unavailable, it will offer the opportunity to reserve by adding it to the reservation_list alongside the id of the member requesting it until it becomes available. (Task 4) Further in the method bookReservation the reservation_list is stored into a dictionary and finally printed out as a json file. To complete the requirements of Task 5, the method sendEmailReturnedBook provides the functionality to send a notification to the member who has reserved the book when the book has again become available for loaning.  \n",
    "\n",
    "When the provided book code is not registered in the library, the option to place a book order is offered. (Task 5.2) The member requesting the book will be able to enter the book details such as title, author etc, so that the book object can be added to the list of ordered books orderedList. Later the notifiedOrder method would send an email to the member who has ordered the book by extracting his id and email from members and printing the message saying that the book has become available. (Task 5.2)"
   ]
  },
  {
   "cell_type": "markdown",
   "metadata": {},
   "source": [
    "To ensure that a loaned book can be returned (Task 2) after checking that both member id and book id are valid entries, the method returnBook will overwrite the '1900' date which indicates that a book is not returned yet, to the current from date new_return_date."
   ]
  },
  {
   "cell_type": "markdown",
   "metadata": {},
   "source": [
    "Regarding Task 3 for which the addition of new members was required, I have added the createNewMember method, which takes the first and last name, gender and email of the new member as an input. Based on the number of current members it generates a new id and a new card number for the new member. All information of the new member is then added to the list of current members as well as to todaysList, which is used to create the dictionary  newMemberData and writing a json file which would then be sent to the external company to produce the membership cards."
   ]
  },
  {
   "cell_type": "markdown",
   "metadata": {},
   "source": [
    "The last method fineNotification, which takes the date set as todaysDate as an input calculates if a book is being returned late and has been loaned for longer than 14 days. In this case an email is sent to the member who is currently loaning the book."
   ]
  },
  {
   "cell_type": "code",
   "execution_count": 9,
   "metadata": {},
   "outputs": [],
   "source": [
    "class Library():\n",
    "    \n",
    "    def __init__(self, list_of_books=[], list_of_members=[], loanList=[]):\n",
    "        \"\"\"\n",
    "        Defines a Library class with a list of book (default empty) and list of members (default empty)\n",
    "        \n",
    "        \"\"\"\n",
    "        # protection\n",
    "        if len(list_of_books) != 0:\n",
    "            for el in list_of_books:\n",
    "                assert isinstance(el,Book)   #checking the types of the elements of the list, they have to be of the type book\n",
    "        if len(list_of_members) != 0:\n",
    "            for el in list_of_members:       #the same for the list of members\n",
    "                assert isinstance(el,Member)        \n",
    "        self._books = list_of_books\n",
    "        self.members = list_of_members      \n",
    "        self.loanList = loanList            #will be used for loaning books\n",
    "        self.reservation_list = []          #will be used for task 4 Reserving a book\n",
    "        self.orderedList = []               #for task 5.2 Ordering a book\n",
    "        \n",
    "        self._state_of_books = {}\n",
    "        for el in loanList:\n",
    "            if el.date_of_return[0:4] == '1900':\n",
    "                self._state_of_books[el.book_ID] = False        #False if the book is loaned\n",
    "            else:\n",
    "                self._state_of_books[el.book_ID] = True         #True if available\n",
    "            \n",
    "    \n",
    "    def hasMember(self, code):            \n",
    "        '''\n",
    "        Checks with the provided code if the holder is a member of the library\n",
    "        by using the scan() method\n",
    "        returns True if code is found\n",
    "        '''\n",
    "        for member in self.members:\n",
    "            if member.scan() == code:                      \n",
    "                return True\n",
    "        return False\n",
    "    \n",
    "    def hasBook(self, code):\n",
    "        '''\n",
    "        Checks with the provided book code if the book is available in the library\n",
    "        by using the scan() method\n",
    "        returns True if book code is found\n",
    "        '''\n",
    "        for book in self._books:\n",
    "            if book.scan() == code:\n",
    "                return True\n",
    "        return False\n",
    "    \n",
    "    def addBook(self, book):\n",
    "        '''\n",
    "        Sets book value to \"True\" for a book id in state_of_books dict, when it is available for loan\n",
    "        '''\n",
    "        self._books.append(book)\n",
    "        self._state_of_books[book.scan()] = True\n",
    "        \n",
    "    def loan(self, book_code, member_code, date_of_loan='', date_of_return=''):\n",
    "        '''\n",
    "        Method to allow a book to be loaned\n",
    "        input: book_code, member_code, date_of_loan, date_of_return\n",
    "        \n",
    "        Checks: if a person is a member and if the requested book is available in the library\n",
    "        If the person is a member and the book is available, the bookloan object created with Lending\n",
    "        containing book_code, member_code, date_of_loan, date_of_return will be added to the loanList and therefore \n",
    "        loaning the book will be recorded\n",
    "        \n",
    "        If the book is currently on loan not available for loaning, the option to reserve the book will be offered \n",
    "        and book and member codes will be added to the reservation_list\n",
    "        \n",
    "        In case that the provided book code is not a registered code of the library books, the option to order the\n",
    "        book is offered, and the details of the book are requested\n",
    "\n",
    "        '''\n",
    "        if self.hasMember(member_code): # check that the person is a member\n",
    "            # allow the loaning\n",
    "            if self.hasBook(book_code): # check that the library owns the book\n",
    "                print(\"The book code is: {}\".format(book_code))\n",
    "                print(\"The book is now available: \", self._state_of_books[book_code])\n",
    "                if self._state_of_books[book_code]:\n",
    "                    self._state_of_books[book_code] = False    #False as we are giving the book away, therefore its \"status\" will change to False in state_of_books\n",
    "                    bookloan = Lending(book_code, member_code, date_of_loan, date_of_return) #creates object\n",
    "                    self.loanList.append(bookloan)      #adds a loaned book to the library\n",
    "                    #print(\"The book {} is loaned to the member {}. The loaning date was {} and the return date is {}\".format(book_code, member_code, date_of_loan, date_of_return))\n",
    "                    return True     #True when loaning is done\n",
    "                else:\n",
    "                    print(\"The book is currently unavailable for loaning\")      #if book is currently not available\n",
    "                    reserving = input(\"Do you want to reserve the book? y/n\")   #task 4 #Reservation of book\n",
    "                    if reserving == \"y\":\n",
    "                        book = {}            #create dictionary taks 4\n",
    "                        book[\"Book\"] = book_code\n",
    "                        book[\"Member\"] = member_code\n",
    "                        self.reservation_list.append(book)\n",
    "                    print(\"The book {} is loaned to the member {}. The loaning date was {} and the return date is {}\".format(book_code, member_code, date_of_loan, date_of_return))\n",
    "                    return False   #False if loaning was cancelled \n",
    "            else:\n",
    "                print(\"The library does not own Book with code {}\".format(book_code))  #Task 5.2 ordering the book\n",
    "                answer = input(\"Do you want to reserve the book? y/n\")\n",
    "                if answer == 'y':\n",
    "                    title = input(\"Please enter the title \")\n",
    "                    author = input(\"Please enter the author \")\n",
    "                    genre = input(\"Please enter the genre \")\n",
    "                    subgenre = input(\"Please enter the subgenre \")\n",
    "                    publisher = input(\"Please enter the publisher \")\n",
    "                    orderedBook = OrderedBook(book_code, title, author, genre, subgenre, publisher, member_code)\n",
    "                    self.orderedList.append(orderedBook)       #orderedBook object is added to list of ordered books orderedList\n",
    "                return False\n",
    "        else:\n",
    "            print(\"Person with code {} is not a member of this library\".format(member_code))\n",
    "            return False\n",
    "        \n",
    "    def returnBook(self, book_code, member_code, new_return_date):     #this is about task 2 Returning a book\n",
    "        '''\n",
    "        Method providing functionality to return a book \n",
    "        Input: book_code, member_code, new_return_date\n",
    "        In case that the provided member and book id are registered with the library and the return date is 1900\n",
    "        date_of_return will be overwritten with the new date new_return_date (Testing in Task 2)\n",
    "        \n",
    "        In addition as required in Task 5, an email will be sent to the member who has reserved the book\n",
    "        '''\n",
    "        if self.hasMember(member_code):\n",
    "            if self.hasBook(book_code):\n",
    "                for element in self.loanList:\n",
    "                    if element.member_ID == member_code and element.book_ID == book_code:\n",
    "                        print(\"The book requested with the number {} is found\".format(book_code))\n",
    "                        print(\"The book was loaned on {} and returned on {}.\".format(element.date_of_loan, element.date_of_return))\n",
    "                        if element.date_of_return[0:4] == '1900':      #is not returned yet\n",
    "                            element.date_of_return = new_return_date   #overwrites the 1900 date (which shows that it is not returned)\n",
    "                            #print(\"The book was loaned on {} and returned on {}.\".format(element.date_of_loan, element.date_of_return)) \n",
    "                            self.sendEmailReturnedBook(book_code)      #task 5 Send notification to member who has reserved the book\n",
    "            else:\n",
    "                print(\"The library does not own Book with code {}\".format(book_code))    \n",
    "        else:\n",
    "            print(\"Person with code {} is not a member of this library\".format(member_code))\n",
    "            \n",
    "            \n",
    "    def createNewMember(self, firstName, lastName, gender, email):            #Task 3 Adding new members  \n",
    "        '''\n",
    "        Method to allow the registration of a new member \n",
    "        Input: firstName, lastName, gender, email\n",
    "        Creates the id number for the new member based on the number of the current members\n",
    "        Creates the cardnumber for the new member\n",
    "        '''\n",
    "        number_of_members = len(self.members)\n",
    "        ID = str(number_of_members + 1)                  #creates the id number \n",
    "        cardnumber = ID + str(1)                         #creates the card number\n",
    "        new_member = Member(ID, firstName, lastName, gender, email, cardnumber) #object new_member \n",
    "        #print(cardnumber, ID)\n",
    "        self.addMember(new_member)\n",
    "        \n",
    "    def addMember(self, member):\n",
    "        '''\n",
    "        Method to assign member to members (in Library)\n",
    "        '''\n",
    "        self.members.append(member)          \n",
    "        \n",
    "        \n",
    "    def todaysMembers(self, member, todaysList):  \n",
    "        '''\n",
    "        Method to add new members to the daily list todaysList\n",
    "        returns todaysList\n",
    "        '''\n",
    "        todaysList.append(member)\n",
    "        return todaysList\n",
    "    \n",
    "    \n",
    "    def newMembersFileJSON(self, filename, todaysList):\n",
    "        '''\n",
    "        Method to create dictionary containing the new member's information\n",
    "        and writing a json file\n",
    "        '''\n",
    "        newMemberData = {}\n",
    "        newMemberData[\"people\"] = []                #key people and value list\n",
    "        for i in range(len(todaysList)):            #creates dictionary with the list of information \n",
    "            newMemberData[\"people\"].append({        #iterates through todaysList adding the member info to the dict\n",
    "                \"ID\": todaysList[i].ID,\n",
    "                \"firstName\": todaysList[i].first_name,\n",
    "                \"lastName\" : todaysList[i].last_name,\n",
    "                \"gender\" : todaysList[i].gender,\n",
    "                \"email\" : todaysList[i].email,\n",
    "                \"cardnumber\" : todaysList[i].cardnumber\n",
    "            })\n",
    "        \n",
    "        writeFile = filename + \".json\" \n",
    "        with open(writeFile, 'w') as file:\n",
    "            json.dump(newMemberData, file)              #writing the json file for new members\n",
    "        \n",
    "    \n",
    "    def bookReservation(self, filename):                 #creating the json file with the reservations\n",
    "        '''\n",
    "        Method to create the reservation_dict containing reservation info\n",
    "        Writes a json file from the reservation dict\n",
    "        '''\n",
    "        reservation_dict = {}\n",
    "        reservation_dict[\"Reserved\"] = self.reservation_list\n",
    "        writeFile = filename + \".json\"\n",
    "        with open(writeFile, 'w') as file:               #writing the json file\n",
    "            json.dump(reservation_dict, file)\n",
    "\n",
    "        '''\n",
    "        The following methods concerning task 5 \n",
    "        Subtask 1: Notification that a reserved book had become available.\n",
    "        Subtask 2: Notification that an ordered book had become available.\n",
    "        Subtask 3: Notification that a book return was late and of a resultant fine.\n",
    "        '''\n",
    "\n",
    "        \n",
    "    def sendEmailReturnedBook(self, book_code):    #task 5.1\n",
    "        '''\n",
    "        Sends a notification to the member when the reserved book is available\n",
    "        '''\n",
    "        for reservation in self.reservation_list:\n",
    "            if reservation[\"Book\"] == book_code:\n",
    "                member_code = reservation[\"Member\"]\n",
    "                for member in self.members:\n",
    "                    if member.ID == member_code:\n",
    "                        email = member.email\n",
    "                        print(\"The book with the id {} is now available for {}. Sending an email to {}\".format(book_code, member_code, email))\n",
    "   \n",
    "\n",
    "    def notifiedOrder(self, arrivedBooks = []):  #task 5.2\n",
    "        '''\n",
    "        Sends notification to the specific member who has ordered the book when it is available\n",
    "        '''\n",
    "        for arrivedBook in arrivedBooks:\n",
    "            for orderedBook in self.orderedList:\n",
    "                if orderedBook.number == arrivedBook:\n",
    "                    for member in self.members:\n",
    "                        if member.ID == orderedBook.memberId:\n",
    "                            print(\"The book {} ordered by {} has arrived. Sending an email to {}\". format(arrivedBook, member.ID, member.email))\n",
    "    \n",
    "    \n",
    "    def fineNotification(self, todaysDate):      #task 5.3\n",
    "        '''\n",
    "        Sends a fine if the book loaned is not returned after 14 days and to the books which are on loan\n",
    "        longer than 14 days\n",
    "        '''\n",
    "        for element in self.loanList:                   #iterates through loanList\n",
    "            if element.date_of_return[0:4] == '1900':   #year '1900' means that a book is not returned\n",
    "                loanDate = datetime.datetime.fromisoformat(element.date_of_loan)\n",
    "                today = datetime.datetime.fromisoformat(todaysDate)            #today\n",
    "                if (today - loanDate).days > 14:        #calculates if more than 14 days have passed\n",
    "                    memberId = element.member_ID\n",
    "                    for member in self.members:         #extracts member id and email information\n",
    "                        if member.ID == memberId:\n",
    "                            email = member.email\n",
    "                            print(\"The member {} has not returned the book {}. A fine will be sent to {}\".format(memberId, element.book_ID, email))\n",
    "    \n"
   ]
  },
  {
   "cell_type": "markdown",
   "metadata": {},
   "source": [
    "### Task 1 : Loaning a book"
   ]
  },
  {
   "cell_type": "markdown",
   "metadata": {},
   "source": [
    "The following example demonstrates the functionality of the code in the situation where a book is requested but is not available for loaning. The member is offered the opportunity to make a reservation by entering y for yes, or to refrain by entering n for no."
   ]
  },
  {
   "cell_type": "code",
   "execution_count": 10,
   "metadata": {},
   "outputs": [
    {
     "name": "stdout",
     "output_type": "stream",
     "text": [
      "1\n",
      "The book code is: 2\n",
      "The book is now available:  False\n",
      "The book is currently unavailable for loaning\n",
      "Do you want to reserve the book? y/ny\n",
      "The book 2 is loaned to the member 104. The loaning date was 2021-04-19 and the return date is 2021-05-19\n",
      "1\n"
     ]
    }
   ],
   "source": [
    "#Book is unavailable for loaning and will be reserved\n",
    "\n",
    "library = Library(bookList, membersList, loanList)   #create library object\n",
    "\n",
    "print(library.loanList[-1].member_ID)\n",
    "\n",
    "library.loan('2', '104', '2021-04-19', '2021-05-19') #adds a new loaned book\n",
    "print(library.loanList[-1].member_ID)\n",
    "\n"
   ]
  },
  {
   "cell_type": "markdown",
   "metadata": {},
   "source": [
    "In this situation the book is available for loaning and therefore the loan is successful. The printout shows the  id of the book which is being loaned and the member id of the member loaning the book. The provided dummy dates represent the date of loan and the date of return."
   ]
  },
  {
   "cell_type": "code",
   "execution_count": 11,
   "metadata": {},
   "outputs": [
    {
     "name": "stdout",
     "output_type": "stream",
     "text": [
      "1\n",
      "The book code is: 3\n",
      "The book is now available:  True\n",
      "85\n"
     ]
    }
   ],
   "source": [
    "#Book is available for loaning\n",
    "\n",
    "library = Library(bookList, membersList, loanList)   #create library object\n",
    "\n",
    "print(library.loanList[-1].member_ID)\n",
    "\n",
    "library.loan('3', '85', '2021-04-19', '2021-05-19') #adds a new loaned book with dummy dates\n",
    "print(library.loanList[-1].member_ID)\n"
   ]
  },
  {
   "cell_type": "markdown",
   "metadata": {},
   "source": [
    "The following code is testing the loan of a book by firstly loaning the book to a member and then requesting the same book again.  \n",
    "When requesting the book a second time the member is offered the option to reserve the book. This shows that the loaning was successful the first time and the book has been recorded as unavailable.  "
   ]
  },
  {
   "cell_type": "code",
   "execution_count": 12,
   "metadata": {},
   "outputs": [],
   "source": [
    "newbook = Book('1','Fundamentals of Wavelets',\"Goswami, Jaideva\",'tech','signal_processing','Wiley')"
   ]
  },
  {
   "cell_type": "code",
   "execution_count": 13,
   "metadata": {},
   "outputs": [
    {
     "name": "stdout",
     "output_type": "stream",
     "text": [
      "The book code is: 1\n",
      "The book is now available:  True\n",
      "Book Fundamentals of Wavelets loaned to Marcus\n"
     ]
    }
   ],
   "source": [
    "# Test the loan of a book\n",
    "\n",
    "if library.loan(newbook.scan(), newMember.scan()) == True:     \n",
    "    print(\"Book\", newbook.title, \"loaned to\", newMember.first_name)\n",
    "else:\n",
    "    print(\"Book\", newbook.title, \"not loaned to\", newMember.first_name)\n",
    "    "
   ]
  },
  {
   "cell_type": "code",
   "execution_count": 14,
   "metadata": {},
   "outputs": [],
   "source": [
    "newbook = Book('1','Fundamentals of Wavelets',\"Goswami, Jaideva\",'tech','signal_processing','Wiley')"
   ]
  },
  {
   "cell_type": "code",
   "execution_count": 17,
   "metadata": {},
   "outputs": [
    {
     "name": "stdout",
     "output_type": "stream",
     "text": [
      "The book code is: 1\n",
      "The book is now available:  True\n",
      "Book Fundamentals of Wavelets loaned to Marcus\n"
     ]
    }
   ],
   "source": [
    "#Test the loan when the book is already borrowed\n",
    "\n",
    "if library.loan(newbook.scan(), newMember.scan()) == True:     \n",
    "    print(\"Book\", newbook.title, \"loaned to\", newMember.first_name)\n",
    "else:\n",
    "    print(\"Book\", newbook.title, \"not loaned to\", newMember.first_name)\n",
    "    "
   ]
  },
  {
   "cell_type": "markdown",
   "metadata": {},
   "source": [
    "### Task 2 : Returning a book "
   ]
  },
  {
   "cell_type": "markdown",
   "metadata": {},
   "source": [
    "The following code tests the returning of a book with a given \"dummy\" date of return and the existing valid cardnumber and book id."
   ]
  },
  {
   "cell_type": "code",
   "execution_count": 18,
   "metadata": {},
   "outputs": [
    {
     "name": "stdout",
     "output_type": "stream",
     "text": [
      "The book requested with the number 2 is found\n",
      "The book was loaned on 2019-02-15 and returned on 2019-02-17.\n",
      "The book requested with the number 2 is found\n",
      "The book was loaned on 2020-01-02 and returned on 2021-04-30.\n"
     ]
    }
   ],
   "source": [
    "#Testing functionality with bookloans.csv file entry: '2','18','43830','0'\n",
    "\n",
    "\n",
    "library = Library(bookList, membersList, loanList)\n",
    "\n",
    "cardnumber = '18'\n",
    "\n",
    "booknumber = '2'\n",
    "\n",
    "date_of_return = '2021-04-30'\n",
    "\n",
    "library.returnBook(booknumber, cardnumber, date_of_return)   \n",
    "\n"
   ]
  },
  {
   "cell_type": "markdown",
   "metadata": {},
   "source": [
    "\"The book was loaned on 2020-01-02 and returned on 2021-04-30.\"\n",
    "shows that the '0' entry in date_of_return has been successfully updated into the current given date '2021-04-30', which means that the book will be available when a new loan request is made."
   ]
  },
  {
   "cell_type": "markdown",
   "metadata": {},
   "source": [
    "### Task 3 : Adding new members"
   ]
  },
  {
   "cell_type": "markdown",
   "metadata": {},
   "source": [
    "As requested in task 3 the code allows for new members to be added and their details to be stored. I have added two new fictional members as an example. To demonstrate the functionality I am printing first the last already existing library member. Then two new members are added with newly created ids and cardnumbers. When the last member is printed out again, it will show the last entry as the last library member.\n",
    "\n",
    "It would be best to not run the code more than once as the member number will be updated again. "
   ]
  },
  {
   "cell_type": "code",
   "execution_count": 19,
   "metadata": {},
   "outputs": [
    {
     "name": "stdout",
     "output_type": "stream",
     "text": [
      "Marcus 2002 200\n",
      "Wilfred 2011 201\n",
      "Sarah Jane 2021 202\n",
      "Today 2 new members have been added.\n"
     ]
    }
   ],
   "source": [
    "#Creating daily list of new members\n",
    "#Code is tested on two examples\n",
    "#If this code is run more than once it will just add the same two members and update their id and cardnumbers\n",
    "\n",
    "todaysList = []\n",
    "library = Library(bookList, membersList, loanList)\n",
    "\n",
    "#print the last existing member, the cardnumber and id before adding the new members\n",
    "print(library.members[-1].first_name, library.members[-1].cardnumber, library.members[-1].ID)  \n",
    "\n",
    "library.createNewMember(\"Wilfred\", \"Mott\", \"male\", \"wmott@example.com\") #add new member\n",
    "\n",
    "print(library.members[-1].first_name, library.members[-1].cardnumber, library.members[-1].ID) #prints added member\n",
    "\n",
    "todaysList = library.todaysMembers(library.members[-1], todaysList)\n",
    "\n",
    "library.createNewMember(\"Sarah Jane\", \"Smith\", \"Female\", \"sarahjsmith@example.com\") #add new member\n",
    "\n",
    "#print last member after adding two new members\n",
    "print(library.members[-1].first_name, library.members[-1].cardnumber, library.members[-1].ID) \n",
    "\n",
    "todaysList = library.todaysMembers(library.members[-1], todaysList)\n",
    "print(\"Today {} new members have been added.\".format(len(todaysList))) #prints how many new members have been added\n"
   ]
  },
  {
   "cell_type": "markdown",
   "metadata": {},
   "source": [
    "Running the following cell will ensure that the a json file \"daily_new_members.json\" containing the information on the new members is created and saved in the current directory. This file could then be sent to the company which prints the cards for the new members. "
   ]
  },
  {
   "cell_type": "code",
   "execution_count": 20,
   "metadata": {},
   "outputs": [],
   "source": [
    "#new members are stored in a json file\n",
    "\n",
    "filename = \"daily_new_members.json\"\n",
    "\n",
    "library.newMembersFileJSON('daily_new_members', todaysList)"
   ]
  },
  {
   "cell_type": "markdown",
   "metadata": {},
   "source": [
    "The json file containing the information of each new member as well as their id and generated cardnumber would store the information as follows:  \n",
    "\n",
    "{\"people\": [{\"ID\": \"201\", \"firstName\": \"Wilfred\", \"lastName\": \"Mott\", \"gender\": \"male\", \"email\": \"wmott@example.com\", \"cardnumber\": \"2011\"}, {\"ID\": \"202\", \"firstName\": \"Sarah Jane\", \"lastName\": \"Smith\", \"gender\": \"Female\", \"email\": \"sarahjsmith@example.com\", \"cardnumber\": \"2021\"}]}"
   ]
  },
  {
   "cell_type": "markdown",
   "metadata": {},
   "source": [
    "### Task 4 : Reserving a book"
   ]
  },
  {
   "cell_type": "markdown",
   "metadata": {},
   "source": [
    "Task: Provide functionality to allow a member to reserve a book. Assume that they have the number of the book available. This will require permanent storage as it may be some time before a book becomes available."
   ]
  },
  {
   "cell_type": "markdown",
   "metadata": {},
   "source": [
    "In task four I am creating a json file in which book reservation requests are stored. Based on the book code provided a member can request a book and can choose to make a reservation if the book is not available at that moment by responding with 'y' for yes. There is no actual limit set on how many books a member can request at a time, as it did not seem necessary. However this is something that could be implemented too if needed.    \n",
    "\n",
    "The file Reservations.json containing the book id together with the member id will be stored in the current directory as follows.  \n",
    "\n",
    "\n",
    "{\"Reserved\": [{\"Book\": \"106\", \"Member\": \"30\"}, {\"Book\": \"105\", \"Member\": \"30\"}]}  \n"
   ]
  },
  {
   "cell_type": "code",
   "execution_count": 21,
   "metadata": {
    "scrolled": true
   },
   "outputs": [
    {
     "name": "stdout",
     "output_type": "stream",
     "text": [
      "The book code is: 106\n",
      "The book is now available:  False\n",
      "The book is currently unavailable for loaning\n",
      "Do you want to reserve the book? y/ny\n",
      "The book 106 is loaned to the member 30. The loaning date was  and the return date is \n",
      "The book code is: 105\n",
      "The book is now available:  False\n",
      "The book is currently unavailable for loaning\n",
      "Do you want to reserve the book? y/ny\n",
      "The book 105 is loaned to the member 30. The loaning date was  and the return date is \n"
     ]
    }
   ],
   "source": [
    "#task 4\n",
    "\n",
    "library = Library(bookList, membersList, loanList)     \n",
    "\n",
    "library.loan('106', '30')      # Member 30 requesting book 106 and 105\n",
    "library.loan('105', '30')\n",
    "library.bookReservation('Reservations')   #file Reservations.json is created"
   ]
  },
  {
   "cell_type": "markdown",
   "metadata": {},
   "source": [
    "### Task 5 : Sending notifications"
   ]
  },
  {
   "cell_type": "markdown",
   "metadata": {},
   "source": [
    "Task: Test the system and show or describe how it is capable of coping with the situations described in the preamble and how it might be sufficiently flexible to deal with future notification requirements."
   ]
  },
  {
   "cell_type": "markdown",
   "metadata": {},
   "source": [
    "1. Notification that a reserved book had become available.  \n",
    "2. Notification that an ordered book had become available.  \n",
    "3. Notification that a book return was late and of a resultant fine."
   ]
  },
  {
   "cell_type": "markdown",
   "metadata": {},
   "source": [
    "The following code tests the functionality of Task 5.1. It creates a reservation for a book that is currently not available and sends an email to the member who has requested it.  \n",
    "In a real life situation there would be a time gap between reserving the book and it becoming available again. However in the test situation this should not be a concern."
   ]
  },
  {
   "cell_type": "code",
   "execution_count": 75,
   "metadata": {},
   "outputs": [
    {
     "name": "stdout",
     "output_type": "stream",
     "text": [
      "The book code is: 8\n",
      "The book is now available:  False\n",
      "The book is currently unavailable for loaning\n",
      "Do you want to reserve the book? y/ny\n",
      "The book requested with the number 8 is found\n",
      "The book with the id 8 is now available for 167. Sending an email to a.ferguson@randatmail.com\n"
     ]
    }
   ],
   "source": [
    "library = Library(bookList, membersList, loanList)   #library object\n",
    "\n",
    "#Task 5.1 Notification that a reserved book had become available.\n",
    "\n",
    "library.loan('8', '167')                        #book is reserved for member '167'\n",
    "\n",
    "library.returnBook('8', '167', '2021-04-30')    #book is returned\n"
   ]
  },
  {
   "cell_type": "markdown",
   "metadata": {},
   "source": [
    "The following code allows the member to order a book if it is not available in the library. The member needs to provide the necessary details of the book, such as title, author etc and the order will be placed. As soon as the book arrives the member will be notified via email.  \n",
    "I have tested the code with two different examples showing that different members can order different books at the same time. "
   ]
  },
  {
   "cell_type": "markdown",
   "metadata": {},
   "source": [
    "The code could be changed to entering the book title first to allow for easier recognition of the book title in a real situation, however for the purpose of this task I felt that the book id was sufficient."
   ]
  },
  {
   "cell_type": "code",
   "execution_count": 76,
   "metadata": {},
   "outputs": [
    {
     "name": "stdout",
     "output_type": "stream",
     "text": [
      "The library does not own Book with code 203\n",
      "Do you want to reserve the book? y/ny\n",
      "Please enter the title Macbeth\n",
      "Please enter the author William Shakespeare\n",
      "Please enter the genre dramatic play\n",
      "Please enter the subgenre tragedy\n",
      "Please enter the publisher Wordsworth Editions\n"
     ]
    },
    {
     "data": {
      "text/plain": [
       "False"
      ]
     },
     "execution_count": 76,
     "metadata": {},
     "output_type": "execute_result"
    }
   ],
   "source": [
    "'''\n",
    "Testing notification by ordering two books and sending the notification tho the person who has placed the order\n",
    "'''\n",
    "#Task 5.2 Ordering a book\n",
    "\n",
    "library.loan('203', '29')\n"
   ]
  },
  {
   "cell_type": "code",
   "execution_count": 77,
   "metadata": {},
   "outputs": [
    {
     "name": "stdout",
     "output_type": "stream",
     "text": [
      "The library does not own Book with code 204\n",
      "Do you want to reserve the book? y/ny\n",
      "Please enter the title The Castle\n",
      "Please enter the author Franz Kafka\n",
      "Please enter the genre fiction\n",
      "Please enter the subgenre modernist fiction\n",
      "Please enter the publisher Oxford World's Classics\n"
     ]
    },
    {
     "data": {
      "text/plain": [
       "False"
      ]
     },
     "execution_count": 77,
     "metadata": {},
     "output_type": "execute_result"
    }
   ],
   "source": [
    "#Task 5.2 Ordering a second book\n",
    "\n",
    "library.loan('204', '15')"
   ]
  },
  {
   "cell_type": "markdown",
   "metadata": {},
   "source": [
    "Both members will be notified separately when the books they have ordered are available. The printout mentions the book id and the member id as well as the member's email address. As this process would be automated I think it is less error prone to work with just the ids for this task."
   ]
  },
  {
   "cell_type": "code",
   "execution_count": 79,
   "metadata": {},
   "outputs": [
    {
     "name": "stdout",
     "output_type": "stream",
     "text": [
      "The book 203 ordered by 29 has arrived. Sending an email to m.miller@randatmail.com\n"
     ]
    }
   ],
   "source": [
    "#Task 5.2 Sending a notification when an ordered book has arrived\n",
    "\n",
    "library.notifiedOrder(['203'])"
   ]
  },
  {
   "cell_type": "code",
   "execution_count": 78,
   "metadata": {},
   "outputs": [
    {
     "name": "stdout",
     "output_type": "stream",
     "text": [
      "The book 204 ordered by 15 has arrived. Sending an email to m.anderson@randatmail.com\n"
     ]
    }
   ],
   "source": [
    "#Sending a different notification when an ordered book has arrived to the member who requested the book\n",
    "\n",
    "library.notifiedOrder(['204'])"
   ]
  },
  {
   "cell_type": "markdown",
   "metadata": {},
   "source": [
    "Task 5.3 required to send notifications to all members who did not return the books in time. The following code will calculate which of the books currently on loan have been kept for longer than 14 days based on todaysDate and the given date '2021-04-30'. As I have chosen a more recent date there are a few fines issued.  "
   ]
  },
  {
   "cell_type": "code",
   "execution_count": 74,
   "metadata": {},
   "outputs": [
    {
     "name": "stdout",
     "output_type": "stream",
     "text": [
      "The member 120 has not returned the book 6. A fine will be sent to e.douglas@randatmail.com\n",
      "The member 167 has not returned the book 8. A fine will be sent to a.ferguson@randatmail.com\n",
      "The member 118 has not returned the book 15. A fine will be sent to a.carter@randatmail.com\n",
      "The member 42 has not returned the book 17. A fine will be sent to a.harris@randatmail.com\n",
      "The member 69 has not returned the book 22. A fine will be sent to a.cooper@randatmail.com\n",
      "The member 78 has not returned the book 24. A fine will be sent to l.richards@randatmail.com\n",
      "The member 23 has not returned the book 30. A fine will be sent to a.murray@randatmail.com\n",
      "The member 34 has not returned the book 31. A fine will be sent to c.phillips@randatmail.com\n",
      "The member 45 has not returned the book 32. A fine will be sent to r.montgomery@randatmail.com\n",
      "The member 168 has not returned the book 33. A fine will be sent to j.davis@randatmail.com\n",
      "The member 30 has not returned the book 36. A fine will be sent to p.elliott@randatmail.com\n",
      "The member 169 has not returned the book 38. A fine will be sent to a.harrison@randatmail.com\n",
      "The member 176 has not returned the book 39. A fine will be sent to d.parker@randatmail.com\n",
      "The member 110 has not returned the book 41. A fine will be sent to m.crawford@randatmail.com\n",
      "The member 150 has not returned the book 43. A fine will be sent to d.foster@randatmail.com\n",
      "The member 69 has not returned the book 47. A fine will be sent to a.cooper@randatmail.com\n",
      "The member 30 has not returned the book 49. A fine will be sent to p.elliott@randatmail.com\n",
      "The member 171 has not returned the book 51. A fine will be sent to w.craig@randatmail.com\n",
      "The member 31 has not returned the book 55. A fine will be sent to g.warren@randatmail.com\n",
      "The member 194 has not returned the book 56. A fine will be sent to s.mason@randatmail.com\n",
      "The member 24 has not returned the book 58. A fine will be sent to a.gray@randatmail.com\n",
      "The member 109 has not returned the book 60. A fine will be sent to j.clark@randatmail.com\n",
      "The member 16 has not returned the book 61. A fine will be sent to b.alexander@randatmail.com\n",
      "The member 103 has not returned the book 63. A fine will be sent to a.murphy@randatmail.com\n",
      "The member 84 has not returned the book 66. A fine will be sent to a.anderson@randatmail.com\n",
      "The member 109 has not returned the book 72. A fine will be sent to j.clark@randatmail.com\n",
      "The member 79 has not returned the book 78. A fine will be sent to j.evans@randatmail.com\n",
      "The member 74 has not returned the book 79. A fine will be sent to o.ferguson@randatmail.com\n",
      "The member 119 has not returned the book 85. A fine will be sent to f.evans@randatmail.com\n",
      "The member 90 has not returned the book 87. A fine will be sent to a.farrell@randatmail.com\n",
      "The member 15 has not returned the book 88. A fine will be sent to m.anderson@randatmail.com\n",
      "The member 86 has not returned the book 89. A fine will be sent to p.andrews@randatmail.com\n",
      "The member 130 has not returned the book 91. A fine will be sent to j.baker@randatmail.com\n",
      "The member 149 has not returned the book 92. A fine will be sent to o.alexander@randatmail.com\n",
      "The member 186 has not returned the book 93. A fine will be sent to a.roberts@randatmail.com\n",
      "The member 196 has not returned the book 94. A fine will be sent to a.cooper@randatmail.com\n",
      "The member 49 has not returned the book 99. A fine will be sent to a.ellis@randatmail.com\n",
      "The member 109 has not returned the book 100. A fine will be sent to j.clark@randatmail.com\n",
      "The member 30 has not returned the book 105. A fine will be sent to p.elliott@randatmail.com\n",
      "The member 137 has not returned the book 106. A fine will be sent to j.thompson@randatmail.com\n",
      "The member 76 has not returned the book 109. A fine will be sent to t.russell@randatmail.com\n",
      "The member 14 has not returned the book 117. A fine will be sent to n.phillips@randatmail.com\n",
      "The member 178 has not returned the book 119. A fine will be sent to d.campbell@randatmail.com\n"
     ]
    }
   ],
   "source": [
    "#Task 5.3 Sending fines to all books kept longer than 14 days with a given date '2021-04-30'\n",
    "\n",
    "library.fineNotification('2021-04-30')\n",
    "\n"
   ]
  },
  {
   "cell_type": "markdown",
   "metadata": {},
   "source": [
    "Overall the library management system created so far is providing the basic functionalities to register members, books, to loan or reserve a book and to send notifications. Further functionalities could be added if needed in the future and the given functionalities could be adjusted to the specific needs of the library.   \n",
    "This could e.g. include refining the notification system, so that it would send different timed reminder messages to the members before issuing the final fine. \n",
    "Testing of the system is provided wherever possible to demonstrate the different steps and to show how the tasks set are solved. \n"
   ]
  },
  {
   "cell_type": "markdown",
   "metadata": {},
   "source": [
    "Thank you."
   ]
  },
  {
   "cell_type": "code",
   "execution_count": null,
   "metadata": {},
   "outputs": [],
   "source": []
  }
 ],
 "metadata": {
  "kernelspec": {
   "display_name": "Python 3",
   "language": "python",
   "name": "python3"
  },
  "language_info": {
   "codemirror_mode": {
    "name": "ipython",
    "version": 3
   },
   "file_extension": ".py",
   "mimetype": "text/x-python",
   "name": "python",
   "nbconvert_exporter": "python",
   "pygments_lexer": "ipython3",
   "version": "3.8.3"
  }
 },
 "nbformat": 4,
 "nbformat_minor": 4
}
