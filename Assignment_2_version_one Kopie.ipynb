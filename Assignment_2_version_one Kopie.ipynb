{
 "cells": [
  {
   "cell_type": "markdown",
   "metadata": {},
   "source": [
    "Borena Kunze"
   ]
  },
  {
   "cell_type": "markdown",
   "metadata": {},
   "source": [
    "## "
   ]
  },
  {
   "cell_type": "markdown",
   "metadata": {},
   "source": [
    "### Task 1"
   ]
  },
  {
   "cell_type": "markdown",
   "metadata": {},
   "source": [
    "Provide code that will allow a member to borrow a book, recording the results as a new bookloan.   \n",
    "\n",
    "You can provide both Book and Member classes with a method scan() which will return the id of an instance of each respectively.  \n",
    "Do not worry about representing a membership card. Cards can be an attribute of Member. Use dummy data to test the code and state the preconditions and postconditions of the operation in a docstring."
   ]
  },
  {
   "cell_type": "code",
   "execution_count": 1,
   "metadata": {},
   "outputs": [],
   "source": [
    "import csv\n",
    "import datetime\n",
    "import json"
   ]
  },
  {
   "cell_type": "markdown",
   "metadata": {},
   "source": [
    "--- \n",
    "## Book List"
   ]
  },
  {
   "cell_type": "code",
   "execution_count": 2,
   "metadata": {},
   "outputs": [],
   "source": [
    "#create the class book\n",
    "\n",
    "class Book:\n",
    "    def __init__(self,number,title,author,genre,subgenre,publisher):\n",
    "        self.number = number\n",
    "        self.title = title\n",
    "        self.author = author\n",
    "        self.genre = genre\n",
    "        self.subgenre = subgenre\n",
    "        self.publisher = publisher\n",
    "    \n",
    "    def scan(self):\n",
    "        return self.number\n",
    "        \n",
    "        \n",
    "        \n",
    "#newbook = Book('1','Fundamentals of Wavelets',\"Goswami, Jaideva\",'tech','signal_processing','Wiley')\n",
    "#print(newbook.title)\n",
    "#print(newbook.genre)     #object.attribute\n",
    "\n",
    "#print(newbook.scan())    #object.method"
   ]
  },
  {
   "cell_type": "code",
   "execution_count": 3,
   "metadata": {},
   "outputs": [],
   "source": [
    "#reading the file books.csv\n",
    "#creating the list of books\n",
    "\n",
    "try:\n",
    "    with open('books.csv', mode = 'r', encoding = 'utf-8') as file:      #using 'utf-8' to encode the file\n",
    "        csvFile = csv.reader(file)\n",
    "        #print(csvFile)\n",
    "        \n",
    "        rowCount = 0\n",
    "        bookList = []        \n",
    "        \n",
    "        for row in csvFile:\n",
    "            #print(row)\n",
    "            if rowCount == 0:\n",
    "                #reads the heading\n",
    "                heading = row        \n",
    "                #print(heading)\n",
    "                \n",
    "                rowCount += 1\n",
    "            else:\n",
    "                #read and store the content in the dictionary\n",
    "                bookId = row[0]\n",
    "                title = row[1]\n",
    "                author = row[2]\n",
    "                genre = row[3]\n",
    "                subgenre = row[4]\n",
    "                publisher = row[5]\n",
    "                \n",
    "                newbook = Book(bookId, title, author, genre, subgenre, publisher)\n",
    "                bookList.append(newbook)\n",
    "                \n",
    "            \n",
    "except:\n",
    "    print('File could not be opened.')\n",
    "    \n",
    "finally:\n",
    "    file.close()"
   ]
  },
  {
   "cell_type": "markdown",
   "metadata": {},
   "source": [
    "--- \n",
    "## Members"
   ]
  },
  {
   "cell_type": "code",
   "execution_count": 4,
   "metadata": {},
   "outputs": [],
   "source": [
    "#creating class member\n",
    "\n",
    "class Member:\n",
    "    def __init__(self, ID, first_name, last_name, gender, email, cardnumber):\n",
    "        self.ID = ID\n",
    "        self.first_name = first_name\n",
    "        self.last_name = last_name\n",
    "        self.gender = gender\n",
    "        self.email = email\n",
    "        self.cardnumber = cardnumber\n",
    "    \n",
    "    def __str__(self):                       #avoids printing the object position in memory and prints the actual information\n",
    "        return self.first_name + \" \" + self.last_name\n",
    "        \n",
    "    def scan(self):\n",
    "        return self.ID\n",
    "        \n",
    "#newmember = Member('1','Adelaide','Cunningham','Female','a.cunningham@randatmail.com','13')\n",
    "#print(newmember.email)\n",
    "\n",
    "#print(newmember.scan())\n",
    "#print(newmember)\n"
   ]
  },
  {
   "cell_type": "code",
   "execution_count": 5,
   "metadata": {},
   "outputs": [],
   "source": [
    "#reading the members.csv file\n",
    "#creating the membersList list\n",
    "\n",
    "try:\n",
    "    with open('members.csv', mode = 'r', encoding = 'utf-8') as file:      #using 'utf-8' to encode the file\n",
    "        csvFile = csv.reader(file)\n",
    "        #print(csvFile)\n",
    "        \n",
    "        rowCount = 0\n",
    "        membersList = []\n",
    "        \n",
    "        for row in csvFile:\n",
    "            #print(row)\n",
    "            if rowCount == 0:\n",
    "                #reads the heading\n",
    "                heading = row        \n",
    "                #print(heading)\n",
    "                \n",
    "                rowCount += 1\n",
    "            else:\n",
    "                #read and store the content in the dictionary\n",
    "                memberId = row[0]\n",
    "                firstName = row[1]\n",
    "                lastName = row[2]\n",
    "                gender = row[3]\n",
    "                email = row[4]\n",
    "                cardnumber = row[5]\n",
    "                \n",
    "                newMember = Member(memberId, firstName, lastName, gender, email, cardnumber)\n",
    "                membersList.append(newMember)\n",
    "                \n",
    "            \n",
    "except:\n",
    "    print('File could not be opened.')\n",
    "    \n",
    "finally:\n",
    "    file.close()"
   ]
  },
  {
   "cell_type": "markdown",
   "metadata": {},
   "source": [
    "--- \n",
    "## Lending Books"
   ]
  },
  {
   "cell_type": "code",
   "execution_count": 6,
   "metadata": {},
   "outputs": [],
   "source": [
    "#class for lending books\n",
    "\n",
    "class Lending:\n",
    "    def __init__(self, bookID, memberID, date_of_loan, date_of_return):\n",
    "        self.book_ID = bookID\n",
    "        self.member_ID = memberID\n",
    "        self.date_of_loan = date_of_loan\n",
    "        self.date_of_return = date_of_return\n",
    "        \n",
    "        \n",
    "\n"
   ]
  },
  {
   "cell_type": "code",
   "execution_count": 7,
   "metadata": {},
   "outputs": [
    {
     "data": {
      "text/plain": [
       "'2019-03-26'"
      ]
     },
     "execution_count": 7,
     "metadata": {},
     "output_type": "execute_result"
    }
   ],
   "source": [
    "#convert the numerical data to dates\n",
    "#read the bookloans.csv\n",
    "\n",
    "def formatDate(refValue, dateValue):\n",
    "    '''\n",
    "    Function converts Microsoft epoch formatted dates \n",
    "    return: readable date as Year-Month-Day \n",
    "    '''\n",
    "    #considering epoch date to be 1900-01-01\n",
    "    formatRef = datetime.datetime.strptime(refValue, \"%Y-%m-%d\")\n",
    "    newDate = (formatRef + datetime.timedelta(days=int(dateValue))).strftime(\"%Y-%m-%d\")\n",
    "    return newDate\n",
    "\n",
    "\n",
    "\n",
    "\n",
    "'''\n",
    "Opening and reading in the bookloans.csv file \n",
    "Excluding all rows where the unique book id is > 120 \n",
    "Excluding the rows where the return date is 0\n",
    "Using try, except, finally for error handling\n",
    "'''\n",
    "# open the file bookloans.csv\n",
    "#try:\n",
    "    # open the file \n",
    "with open('bookloans.csv', mode = 'r', encoding = 'utf-8') as file:       #using 'utf-8' to encode\n",
    "    csvFile = csv.reader(file)\n",
    "    #print(csvFile)\n",
    "\n",
    "    #initialize the list ol loans\n",
    "    loanList = []\n",
    "\n",
    "\n",
    "    #read the data\n",
    "    for row in csvFile:\n",
    "        #changing first element into '1'\n",
    "        if row[0].isdigit() == False:           \n",
    "            row[0] = '1'\n",
    "            # excluding elements where return_date is 0\n",
    "            # excluding elements where the bookId > 120\n",
    "        if row[3] != 0 and int(row[0]) < 121:\n",
    "\n",
    "            if row[0] != 0:                           #reading in rows 0 and 1\n",
    "                bookID = row[0]\n",
    "            if row[1] != 0:\n",
    "                memberID = row[1]\n",
    "            if row[2] != 0:\n",
    "            #changing epoch into dates\n",
    "                date_of_loan = formatDate('1900-01-01', row[2])   #append the formatDate function\n",
    "            else:\n",
    "                date_of_loan = 'Nan'\n",
    "            if row[3] != 0:\n",
    "                date_of_return = formatDate('1900-01-01', row[3])\n",
    "            else:\n",
    "                date_of_return = 'Nan'\n",
    "\n",
    "            #create object \n",
    "            lending = Lending(bookID,memberID,date_of_loan,date_of_return)\n",
    "\n",
    "            loanList.append(lending)\n",
    "\n",
    "\n",
    "        \n",
    "#except:\n",
    "    #print('File could not be opened.')\n",
    "    \n",
    "#finally:\n",
    "   # file.close()\n",
    "\n",
    "#print(len(bookId))\n",
    "\n",
    "\n",
    "loanList[4].date_of_return"
   ]
  },
  {
   "cell_type": "markdown",
   "metadata": {},
   "source": [
    "--- \n",
    "## Library"
   ]
  },
  {
   "cell_type": "code",
   "execution_count": 12,
   "metadata": {},
   "outputs": [],
   "source": [
    "class Library():\n",
    "    \n",
    "    def __init__(self, list_of_books=[], list_of_members=[], loanList=[]):\n",
    "        \"\"\"\n",
    "        Define a Library class with a list of book (default empty) and list of members (default empty)\n",
    "        \"\"\"\n",
    "        # protection\n",
    "        if len(list_of_books) != 0:\n",
    "            for el in list_of_books:\n",
    "                assert isinstance(el,Book)   #checking the types of the elements of the list, they have to be of the type book\n",
    "        if len(list_of_members) != 0:\n",
    "            for el in list_of_members:\n",
    "                assert isinstance(el,Member)        \n",
    "        self._books = list_of_books\n",
    "        self.members = list_of_members\n",
    "        self.loanList = loanList\n",
    "        \n",
    "        self._state_of_books = {}\n",
    "        for el in list_of_books:                   #number of book is the key\n",
    "            self._state_of_books[el.scan()] = True # is true if the book is present, false it's already loaned\n",
    "    \n",
    "    \n",
    "    def hasMember(self, code):\n",
    "        for member in self.members:\n",
    "            if member.scan() == code:\n",
    "                return True\n",
    "        return False\n",
    "    \n",
    "    def hasBook(self, code):\n",
    "        for book in self._books:\n",
    "            if book.scan() == code:\n",
    "                return True\n",
    "        return False\n",
    "    \n",
    "    def addBook(self, book):\n",
    "        self._books.append(book)\n",
    "        self._state_of_books[book.scan()] = True\n",
    "        \n",
    "    def loan(self, book_code, member_code, date_of_loan='', date_of_return=''):\n",
    "        if self.hasMember(member_code): # check that the person is a member\n",
    "            # allow the loaning\n",
    "            if self.hasBook(book_code): # check that the library owns the book\n",
    "                if self._state_of_books[book_code]:\n",
    "                    self._state_of_books[book_code] = False\n",
    "                    bookloan = Lending(book_code, member_code, date_of_loan, date_of_return)\n",
    "                    self.loanList.append(bookloan)      #adds a loaned book to the library\n",
    "                    #print(\"The book {} is loaned to the member {}. The loaning date was {} and the return date is {}\".format(book_code, member_code, date_of_loan, date_of_return))\n",
    "                    return True\n",
    "                else:\n",
    "                    print(\"The book is currently unavailable for loaning\")\n",
    "                    #print(\"The book {} is loaned to the member {}. The loaning date was {} and the return date is {}\".format(book_code, member_code, date_of_loan, date_of_return))\n",
    "                    return False\n",
    "            else:\n",
    "                print(\"The library does not own Book with code {}\".format(book_code))\n",
    "                return False\n",
    "        else:\n",
    "            print(\"Person with code {} is not a member of this library\".format(member_code))\n",
    "            return False\n",
    "        \n",
    "    def returnBook(self, book_code, member_code, new_return_date):           #this is about task 2 returning a book\n",
    "        if self.hasMember(member_code):\n",
    "            if self.hasBook(book_code):\n",
    "                for element in self.loanList:\n",
    "                    if element.member_ID == member_code and element.book_ID == book_code:\n",
    "                        print('Found')\n",
    "                        print(element.date_of_loan, element.date_of_return)\n",
    "                        if element.date_of_return[0:4] == '1900':      #is not returned yet\n",
    "                            element.date_of_return = new_return_date   #overwrites the 1900 date (which shows that it is not returned)\n",
    "                            print(element.date_of_loan, element.date_of_return) \n",
    "            \n",
    "            else:\n",
    "                print(\"The library does not own Book with code {}\".format(book_code))\n",
    "        else:\n",
    "            print(\"Person with code {} is not a member of this library\".format(member_code))\n",
    "            \n",
    "    def createNewMember(self, firstName, lastName, gender, email):            #Task 3                                        #input all details\n",
    "        number_of_members = len(self.members)\n",
    "        ID = str(number_of_members + 1)\n",
    "        cardnumber = ID + str(1)                                      #create the card number\n",
    "        new_member = Member(ID, firstName, lastName, gender, email, cardnumber)\n",
    "        #print(cardnumber, ID)\n",
    "        self.addMember(new_member)\n",
    "        \n",
    "    def addMember(self, member):\n",
    "        self.members.append(member)\n",
    "        \n",
    "    def todaysMembers(self, member, todaysList):\n",
    "        todaysList.append(member)\n",
    "        return todaysList\n",
    "    \n",
    "    def newMembersFileJSON(self, filename, todaysList):\n",
    "        newMemberData = {}\n",
    "        newMemberData[\"people\"] = []\n",
    "        for i in range(len(todaysList)):\n",
    "            newMemberData[\"people\"].append({ \n",
    "                \"ID\": todaysList[i].ID,\n",
    "                \"firstName\": todaysList[i].first_name,\n",
    "                \"lastName\" : todaysList[i].last_name,\n",
    "                \"gender\" : todaysList[i].gender,\n",
    "                \"email\" : todaysList[i].email,\n",
    "                \"cardnumber\" : todaysList[i].cardnumber\n",
    "            })\n",
    "        \n",
    "        writeFile = filename + \".json\"\n",
    "        with open(writeFile, 'w') as file:\n",
    "            json.dump(newMemberData, file)\n",
    "        \n",
    "\n",
    "\n",
    "        \n",
    "\n",
    "            "
   ]
  },
  {
   "cell_type": "code",
   "execution_count": null,
   "metadata": {},
   "outputs": [],
   "source": []
  },
  {
   "cell_type": "code",
   "execution_count": 9,
   "metadata": {},
   "outputs": [
    {
     "name": "stdout",
     "output_type": "stream",
     "text": [
      "1\n",
      "104\n"
     ]
    },
    {
     "ename": "TypeError",
     "evalue": "returnBook() missing 1 required positional argument: 'new_return_date'",
     "output_type": "error",
     "traceback": [
      "\u001b[0;31m---------------------------------------------------------------------------\u001b[0m",
      "\u001b[0;31mTypeError\u001b[0m                                 Traceback (most recent call last)",
      "\u001b[0;32m<ipython-input-9-0e7fb3ea149e>\u001b[0m in \u001b[0;36m<module>\u001b[0;34m\u001b[0m\n\u001b[1;32m      8\u001b[0m \u001b[0mprint\u001b[0m\u001b[0;34m(\u001b[0m\u001b[0mlibrary\u001b[0m\u001b[0;34m.\u001b[0m\u001b[0mloanList\u001b[0m\u001b[0;34m[\u001b[0m\u001b[0;34m-\u001b[0m\u001b[0;36m1\u001b[0m\u001b[0;34m]\u001b[0m\u001b[0;34m.\u001b[0m\u001b[0mmember_ID\u001b[0m\u001b[0;34m)\u001b[0m\u001b[0;34m\u001b[0m\u001b[0;34m\u001b[0m\u001b[0m\n\u001b[1;32m      9\u001b[0m \u001b[0;34m\u001b[0m\u001b[0m\n\u001b[0;32m---> 10\u001b[0;31m \u001b[0mprint\u001b[0m\u001b[0;34m(\u001b[0m\u001b[0mlibrary\u001b[0m\u001b[0;34m.\u001b[0m\u001b[0mreturnBook\u001b[0m\u001b[0;34m(\u001b[0m\u001b[0;34m'1'\u001b[0m\u001b[0;34m,\u001b[0m\u001b[0;34m'114'\u001b[0m\u001b[0;34m)\u001b[0m\u001b[0;34m)\u001b[0m\u001b[0;34m\u001b[0m\u001b[0;34m\u001b[0m\u001b[0m\n\u001b[0m",
      "\u001b[0;31mTypeError\u001b[0m: returnBook() missing 1 required positional argument: 'new_return_date'"
     ]
    }
   ],
   "source": [
    "#create library object\n",
    "\n",
    "library = Library(bookList, membersList, loanList)\n",
    "\n",
    "print(library.loanList[-1].member_ID)\n",
    "\n",
    "library.loan('2', '104', '2021-04-19', '2021-05-19') #adds a new loaned book\n",
    "print(library.loanList[-1].member_ID)\n",
    "\n",
    "print(library.returnBook('1','114'))"
   ]
  },
  {
   "cell_type": "code",
   "execution_count": null,
   "metadata": {},
   "outputs": [],
   "source": [
    "newmember = Member('2','John','Doe','Male','j.doe@randatmail.com','67')"
   ]
  },
  {
   "cell_type": "code",
   "execution_count": null,
   "metadata": {},
   "outputs": [],
   "source": [
    "newbook = Book('1','Fundamentals of Wavelets',\"Goswami, Jaideva\",'tech','signal_processing','Wiley')"
   ]
  },
  {
   "cell_type": "code",
   "execution_count": null,
   "metadata": {},
   "outputs": [],
   "source": [
    "#Test the loan\n",
    "\n",
    "if library.loan(newbook.scan(), newmember.scan()) == True:     \n",
    "    print(\"Book\", newbook.title, \"loaned to\", newmember.first_name)\n",
    "else:\n",
    "    print(\"Book\", newbook.title, \"not loaned to\", newmember.first_name)\n",
    "    "
   ]
  },
  {
   "cell_type": "code",
   "execution_count": null,
   "metadata": {},
   "outputs": [],
   "source": [
    "if library.loan(newbook.scan(), newmember.scan()) == True:     \n",
    "    print(\"Book\", newbook.title, \"loaned to\", newmember.first_name)\n",
    "else:\n",
    "    print(\"Book\", newbook.title, \"not loaned to\", newmember.first_name)\n",
    "    "
   ]
  },
  {
   "cell_type": "markdown",
   "metadata": {},
   "source": [
    "### Task 2"
   ]
  },
  {
   "cell_type": "markdown",
   "metadata": {},
   "source": [
    "\n",
    "2. Provide code that will allow a member to return a book, again ensuring that necessary data is stored. Test the functionality with appropriate dummy data and again provide pre and postconditions as a docstring."
   ]
  },
  {
   "cell_type": "code",
   "execution_count": null,
   "metadata": {},
   "outputs": [],
   "source": [
    "# Please enter card number\n",
    "# Please enter book number\n",
    "# If book number in member loan list remove book number from loan list , else print error message\n",
    "#2,18,43830,0\n",
    "\n",
    "\n",
    "library = Library(bookList, membersList, loanList)\n",
    "\n",
    "cardnumber = '18'\n",
    "\n",
    "booknumber = '2'\n",
    "date_of_return = '2020-01-14'\n",
    "library.returnBook(booknumber, cardnumber, date_of_return)   \n",
    "\n",
    "\n",
    "\n",
    "\n"
   ]
  },
  {
   "cell_type": "code",
   "execution_count": null,
   "metadata": {},
   "outputs": [],
   "source": []
  },
  {
   "cell_type": "markdown",
   "metadata": {},
   "source": [
    "### Task 3"
   ]
  },
  {
   "cell_type": "markdown",
   "metadata": {},
   "source": [
    "Provide functionality that will allow a member of the public to apply for membership. This will involve the storage of information on the membership request.   \n",
    "Each day, a list of new member details is sent to an external print company who produces membership cards. Cards are delivered to the library approximately three days later, when the membership card- number is recorded.   \n",
    "The format of the card number is made up of the **membership number followed by a single digit indicating the sequence number of the card associated with the member.**  \n",
    "1 means the first card issued to the member, 2 the second and so on. There is an obvious flaw here, but you can ignore it for purposes of the exercise."
   ]
  },
  {
   "cell_type": "code",
   "execution_count": 13,
   "metadata": {},
   "outputs": [
    {
     "name": "stdout",
     "output_type": "stream",
     "text": [
      "Jane 2021 202\n",
      "John 2031 203\n",
      "Jane 2041 204\n",
      "2\n"
     ]
    }
   ],
   "source": [
    "todaysList = []\n",
    "library = Library(bookList, membersList, loanList)\n",
    "\n",
    "print(library.members[-1].first_name, library.members[-1].cardnumber, library.members[-1].ID)\n",
    "library.createNewMember(\"John\", \"Doe\", \"male\", \"johndoe@example.com\") #add new member\n",
    "\n",
    "print(library.members[-1].first_name, library.members[-1].cardnumber, library.members[-1].ID) #print last member\n",
    "\n",
    "todaysList = library.todaysMembers(library.members[-1], todaysList)\n",
    "\n",
    "library.createNewMember(\"Jane\", \"Smith\", \"Female\", \"jane@example.com\")\n",
    "print(library.members[-1].first_name, library.members[-1].cardnumber, library.members[-1].ID) #print last member\n",
    "todaysList = library.todaysMembers(library.members[-1], todaysList)\n",
    "print(len(todaysList))\n"
   ]
  },
  {
   "cell_type": "code",
   "execution_count": 15,
   "metadata": {},
   "outputs": [],
   "source": [
    "#new members need to be stored in a json file\n",
    "\n",
    "\n",
    "\n",
    "filename = \"daily_new_members.json\"\n",
    "\n",
    "library.newMembersFileJSON('daily_new_members', todaysList)"
   ]
  },
  {
   "cell_type": "markdown",
   "metadata": {},
   "source": [
    "### Task 4"
   ]
  },
  {
   "cell_type": "markdown",
   "metadata": {},
   "source": [
    "Provide functionality to allow a member to reserve a book. Assume that they have the number of the book available. This will require permanent storage as it may be some time before a book becomes available."
   ]
  },
  {
   "cell_type": "code",
   "execution_count": null,
   "metadata": {},
   "outputs": [],
   "source": []
  },
  {
   "cell_type": "markdown",
   "metadata": {},
   "source": [
    "### Task 5"
   ]
  },
  {
   "cell_type": "markdown",
   "metadata": {},
   "source": [
    "Using the research that you conducted on design patterns, implement a notification system along the lines described in the Preamble to this assignment.   \n",
    "You can assume that all notifications are sent by email, providing a test sendEmail() method which merely prints to the console the message passed as an argument.    \n",
    "Test the system and show or describe how it is capable of coping with the situations described in the preamble and how it might be sufficiently flexible to deal with future notification requirements."
   ]
  },
  {
   "cell_type": "markdown",
   "metadata": {},
   "source": [
    "1.Notification that a reserved book had become available.  \n",
    "2.Notification that an ordered book had become available.  \n",
    "3.Notification that a book return was late and of a resultant fine."
   ]
  },
  {
   "cell_type": "code",
   "execution_count": 16,
   "metadata": {},
   "outputs": [],
   "source": [
    "#sendmail()"
   ]
  },
  {
   "cell_type": "code",
   "execution_count": null,
   "metadata": {},
   "outputs": [],
   "source": []
  }
 ],
 "metadata": {
  "kernelspec": {
   "display_name": "Python 3",
   "language": "python",
   "name": "python3"
  },
  "language_info": {
   "codemirror_mode": {
    "name": "ipython",
    "version": 3
   },
   "file_extension": ".py",
   "mimetype": "text/x-python",
   "name": "python",
   "nbconvert_exporter": "python",
   "pygments_lexer": "ipython3",
   "version": "3.8.3"
  }
 },
 "nbformat": 4,
 "nbformat_minor": 4
}
